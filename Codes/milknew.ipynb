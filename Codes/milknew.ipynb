{
 "cells": [
  {
   "cell_type": "code",
   "execution_count": 1,
   "id": "10b899dc-eb41-49c0-b141-3a1a57ba2a74",
   "metadata": {},
   "outputs": [],
   "source": [
    "import pandas as pd\n",
    "import numpy as np"
   ]
  },
  {
   "cell_type": "code",
   "execution_count": 5,
   "id": "e25d7905-9244-45ef-8c8c-1a01e499f179",
   "metadata": {},
   "outputs": [],
   "source": [
    "import matplotlib.pyplot as plt\n",
    "import seaborn as sns\n",
    "import matplotlib.pyplot"
   ]
  },
  {
   "cell_type": "code",
   "execution_count": 22,
   "id": "5ff30eef-cfac-4a79-97da-f1d0a0469d4b",
   "metadata": {},
   "outputs": [],
   "source": [
    "data = pd.read_csv(\"D:/ML/archive/milknew.csv\")"
   ]
  },
  {
   "cell_type": "code",
   "execution_count": 7,
   "id": "da7f2b6f-e1bd-4d69-9615-e38545b3bf4b",
   "metadata": {},
   "outputs": [
    {
     "name": "stdout",
     "output_type": "stream",
     "text": [
      "(1059, 8)\n",
      "    pH  Temprature  Taste  Odor  Fat   Turbidity  Colour   Grade\n",
      "0  6.6          35      1     0     1          0     254    high\n",
      "1  6.6          36      0     1     0          1     253    high\n",
      "2  8.5          70      1     1     1          1     246     low\n",
      "3  9.5          34      1     1     0          1     255     low\n",
      "4  6.6          37      0     0     0          0     255  medium\n",
      "Index(['pH', 'Temprature', 'Taste', 'Odor', 'Fat ', 'Turbidity', 'Colour',\n",
      "       'Grade'],\n",
      "      dtype='object')\n"
     ]
    }
   ],
   "source": [
    "print(data.shape)\n",
    "print(data.head())\n",
    "print(data.columns)"
   ]
  },
  {
   "cell_type": "code",
   "execution_count": 8,
   "id": "05f6d870-03e2-497b-8725-b10375bd79f2",
   "metadata": {},
   "outputs": [
    {
     "name": "stdout",
     "output_type": "stream",
     "text": [
      "                pH   Temprature        Taste         Odor         Fat   \\\n",
      "count  1059.000000  1059.000000  1059.000000  1059.000000  1059.000000   \n",
      "mean      6.630123    44.226629     0.546742     0.432483     0.671388   \n",
      "std       1.399679    10.098364     0.498046     0.495655     0.469930   \n",
      "min       3.000000    34.000000     0.000000     0.000000     0.000000   \n",
      "25%       6.500000    38.000000     0.000000     0.000000     0.000000   \n",
      "50%       6.700000    41.000000     1.000000     0.000000     1.000000   \n",
      "75%       6.800000    45.000000     1.000000     1.000000     1.000000   \n",
      "max       9.500000    90.000000     1.000000     1.000000     1.000000   \n",
      "\n",
      "         Turbidity       Colour  \n",
      "count  1059.000000  1059.000000  \n",
      "mean      0.491029   251.840415  \n",
      "std       0.500156     4.307424  \n",
      "min       0.000000   240.000000  \n",
      "25%       0.000000   250.000000  \n",
      "50%       0.000000   255.000000  \n",
      "75%       1.000000   255.000000  \n",
      "max       1.000000   255.000000  \n"
     ]
    }
   ],
   "source": [
    "print(data.describe())"
   ]
  },
  {
   "cell_type": "code",
   "execution_count": 23,
   "id": "a8464019-83e7-4675-995e-6a6b330e001f",
   "metadata": {},
   "outputs": [
    {
     "name": "stdout",
     "output_type": "stream",
     "text": [
      "0      high\n",
      "1      high\n",
      "2       low\n",
      "3       low\n",
      "4    medium\n",
      "Name: Grade, dtype: object\n"
     ]
    }
   ],
   "source": [
    "features_cols = ['pH', 'Temprature', 'Taste', 'Odor', 'Fat ', 'Turbidity', 'Colour']\n",
    "X = data[features_cols]\n",
    "Y = data['Grade']\n",
    "print(data['Grade'].head())"
   ]
  },
  {
   "cell_type": "code",
   "execution_count": 27,
   "id": "f2e34236-3ad4-4a3c-8df4-95fbc6a16607",
   "metadata": {},
   "outputs": [],
   "source": [
    "from sklearn.tree import DecisionTreeClassifier\n",
    "from sklearn.model_selection import cross_val_score\n",
    "from sklearn.model_selection import train_test_split\n",
    "from sklearn import metrics"
   ]
  },
  {
   "cell_type": "code",
   "execution_count": 28,
   "id": "26752478-e5f6-42c8-af96-beb578e40085",
   "metadata": {},
   "outputs": [
    {
     "name": "stdout",
     "output_type": "stream",
     "text": [
      "Accuracy: 1.0\n",
      "Accuracy: 0.9937106918238994\n",
      "0.9945945945945945\n",
      "Accuracy: 0.9937106918238994\n"
     ]
    }
   ],
   "source": [
    "x_train, x_test, y_train, y_test = train_test_split(X, Y, test_size= 0.3)\n",
    "\n",
    "clf = DecisionTreeClassifier()\n",
    "clf = clf.fit(x_train, y_train)\n",
    "y_pred = clf.predict(x_test)\n",
    "Y_train_pred = clf.predict(x_train)\n",
    "print(\"Accuracy:\",metrics.accuracy_score(y_train, Y_train_pred))#training accuracy\n",
    "print(\"Accuracy:\",metrics.accuracy_score(y_test, y_pred))#testing accuracy\n",
    "\n",
    "clf1 = DecisionTreeClassifier()\n",
    "clf1.fit(x_train, y_train)\n",
    "print(cross_val_score(clf1, x_train, y_train, cv=10, scoring='accuracy').mean())\n",
    "y_pred=clf1.predict(x_test)\n",
    "print(\"Accuracy:\",metrics.accuracy_score(y_test, y_pred))"
   ]
  },
  {
   "cell_type": "code",
   "execution_count": 29,
   "id": "61f7e2f4-fab9-43f0-a350-64c61226d858",
   "metadata": {},
   "outputs": [
    {
     "data": {
      "text/plain": [
       "[Text(0.434375, 0.9545454545454546, 'x[1] <= 47.5\\ngini = 0.651\\nsamples = 741\\nvalue = [172, 296, 273]'),\n",
       " Text(0.384375, 0.8636363636363636, 'x[0] <= 5.95\\ngini = 0.642\\nsamples = 593\\nvalue = [172, 148, 273]'),\n",
       " Text(0.334375, 0.7727272727272727, 'gini = 0.0\\nsamples = 91\\nvalue = [0, 91, 0]'),\n",
       " Text(0.434375, 0.7727272727272727, 'x[4] <= 0.5\\ngini = 0.574\\nsamples = 502\\nvalue = [172, 57, 273]'),\n",
       " Text(0.15, 0.6818181818181818, 'x[0] <= 8.15\\ngini = 0.139\\nsamples = 186\\nvalue = [0, 14, 172]'),\n",
       " Text(0.1, 0.5909090909090909, 'x[3] <= 0.5\\ngini = 0.011\\nsamples = 173\\nvalue = [0, 1, 172]'),\n",
       " Text(0.05, 0.5, 'gini = 0.0\\nsamples = 145\\nvalue = [0, 0, 145]'),\n",
       " Text(0.15, 0.5, 'x[1] <= 42.5\\ngini = 0.069\\nsamples = 28\\nvalue = [0, 1, 27]'),\n",
       " Text(0.1, 0.4090909090909091, 'gini = 0.0\\nsamples = 1\\nvalue = [0, 1, 0]'),\n",
       " Text(0.2, 0.4090909090909091, 'gini = 0.0\\nsamples = 27\\nvalue = [0, 0, 27]'),\n",
       " Text(0.2, 0.5909090909090909, 'gini = 0.0\\nsamples = 13\\nvalue = [0, 13, 0]'),\n",
       " Text(0.71875, 0.6818181818181818, 'x[0] <= 7.9\\ngini = 0.583\\nsamples = 316\\nvalue = [172, 43, 101]'),\n",
       " Text(0.66875, 0.5909090909090909, 'x[5] <= 0.5\\ngini = 0.47\\nsamples = 274\\nvalue = [172, 1, 101]'),\n",
       " Text(0.4375, 0.5, 'x[0] <= 6.55\\ngini = 0.471\\nsamples = 163\\nvalue = [62.0, 0.0, 101.0]'),\n",
       " Text(0.3, 0.4090909090909091, 'x[3] <= 0.5\\ngini = 0.039\\nsamples = 50\\nvalue = [1, 0, 49]'),\n",
       " Text(0.25, 0.3181818181818182, 'gini = 0.0\\nsamples = 49\\nvalue = [0, 0, 49]'),\n",
       " Text(0.35, 0.3181818181818182, 'gini = 0.0\\nsamples = 1\\nvalue = [1, 0, 0]'),\n",
       " Text(0.575, 0.4090909090909091, 'x[1] <= 39.0\\ngini = 0.497\\nsamples = 113\\nvalue = [61.0, 0.0, 52.0]'),\n",
       " Text(0.45, 0.3181818181818182, 'x[2] <= 0.5\\ngini = 0.117\\nsamples = 48\\nvalue = [45, 0, 3]'),\n",
       " Text(0.4, 0.22727272727272727, 'x[0] <= 6.7\\ngini = 0.291\\nsamples = 17\\nvalue = [14, 0, 3]'),\n",
       " Text(0.35, 0.13636363636363635, 'gini = 0.0\\nsamples = 3\\nvalue = [0, 0, 3]'),\n",
       " Text(0.45, 0.13636363636363635, 'gini = 0.0\\nsamples = 14\\nvalue = [14, 0, 0]'),\n",
       " Text(0.5, 0.22727272727272727, 'gini = 0.0\\nsamples = 31\\nvalue = [31, 0, 0]'),\n",
       " Text(0.7, 0.3181818181818182, 'x[1] <= 42.0\\ngini = 0.371\\nsamples = 65\\nvalue = [16, 0, 49]'),\n",
       " Text(0.6, 0.22727272727272727, 'x[3] <= 0.5\\ngini = 0.057\\nsamples = 34\\nvalue = [1, 0, 33]'),\n",
       " Text(0.55, 0.13636363636363635, 'gini = 0.0\\nsamples = 33\\nvalue = [0, 0, 33]'),\n",
       " Text(0.65, 0.13636363636363635, 'gini = 0.0\\nsamples = 1\\nvalue = [1, 0, 0]'),\n",
       " Text(0.8, 0.22727272727272727, 'x[0] <= 6.75\\ngini = 0.499\\nsamples = 31\\nvalue = [15, 0, 16]'),\n",
       " Text(0.75, 0.13636363636363635, 'gini = 0.0\\nsamples = 13\\nvalue = [0, 0, 13]'),\n",
       " Text(0.85, 0.13636363636363635, 'x[6] <= 252.5\\ngini = 0.278\\nsamples = 18\\nvalue = [15, 0, 3]'),\n",
       " Text(0.8, 0.045454545454545456, 'gini = 0.0\\nsamples = 15\\nvalue = [15, 0, 0]'),\n",
       " Text(0.9, 0.045454545454545456, 'gini = 0.0\\nsamples = 3\\nvalue = [0, 0, 3]'),\n",
       " Text(0.9, 0.5, 'x[0] <= 6.55\\ngini = 0.018\\nsamples = 111\\nvalue = [110, 1, 0]'),\n",
       " Text(0.85, 0.4090909090909091, 'x[6] <= 250.0\\ngini = 0.117\\nsamples = 16\\nvalue = [15, 1, 0]'),\n",
       " Text(0.8, 0.3181818181818182, 'gini = 0.0\\nsamples = 1\\nvalue = [0, 1, 0]'),\n",
       " Text(0.9, 0.3181818181818182, 'gini = 0.0\\nsamples = 15\\nvalue = [15, 0, 0]'),\n",
       " Text(0.95, 0.4090909090909091, 'gini = 0.0\\nsamples = 95\\nvalue = [95, 0, 0]'),\n",
       " Text(0.76875, 0.5909090909090909, 'gini = 0.0\\nsamples = 42\\nvalue = [0, 42, 0]'),\n",
       " Text(0.484375, 0.8636363636363636, 'gini = 0.0\\nsamples = 148\\nvalue = [0, 148, 0]')]"
      ]
     },
     "execution_count": 29,
     "metadata": {},
     "output_type": "execute_result"
    },
    {
     "data": {
      "image/png": "[encoded data removed]",
      "text/plain": [
       "<Figure size 640x480 with 1 Axes>"
      ]
     },
     "metadata": {},
     "output_type": "display_data"
    }
   ],
   "source": [
    "from sklearn import tree\n",
    "tree.plot_tree(clf)"
   ]
  },
  {
   "cell_type": "code",
   "execution_count": 30,
   "id": "4732811f-c883-4b4b-a704-cd6c5d896564",
   "metadata": {},
   "outputs": [
    {
     "name": "stdout",
     "output_type": "stream",
     "text": [
      "Collecting graphviz\n",
      "  Obtaining dependency information for graphviz from https://files.pythonhosted.org/packages/de/5e/fcbb22c68208d39edff467809d06c9d81d7d27426460ebc598e55130c1aa/graphviz-0.20.1-py3-none-any.whl.metadata\n",
      "  Downloading graphviz-0.20.1-py3-none-any.whl.metadata (12 kB)\n",
      "Downloading graphviz-0.20.1-py3-none-any.whl (47 kB)\n",
      "   ---------------------------------------- 0.0/47.0 kB ? eta -:--:--\n",
      "   ---------------------------------------- 47.0/47.0 kB 2.5 MB/s eta 0:00:00\n",
      "Installing collected packages: graphviz\n",
      "Successfully installed graphviz-0.20.1\n"
     ]
    },
    {
     "name": "stderr",
     "output_type": "stream",
     "text": [
      "\n",
      "[notice] A new release of pip is available: 23.2.1 -> 24.0\n",
      "[notice] To update, run: python.exe -m pip install --upgrade pip\n"
     ]
    }
   ],
   "source": [
    "!pip install graphviz"
   ]
  },
  {
   "cell_type": "code",
   "execution_count": 31,
   "id": "8744bb95-23dd-4487-ac41-713130cac1f0",
   "metadata": {},
   "outputs": [
    {
     "name": "stdout",
     "output_type": "stream",
     "text": [
      "Collecting pydotplus\n",
      "  Downloading pydotplus-2.0.2.tar.gz (278 kB)\n",
      "     ---------------------------------------- 0.0/278.7 kB ? eta -:--:--\n",
      "     ------------------- ------------------ 143.4/278.7 kB 2.8 MB/s eta 0:00:01\n",
      "     ----------------------- -------------- 174.1/278.7 kB 3.5 MB/s eta 0:00:01\n",
      "     -------------------------------------- 278.7/278.7 kB 2.1 MB/s eta 0:00:00\n",
      "  Installing build dependencies: started\n",
      "  Installing build dependencies: finished with status 'done'\n",
      "  Getting requirements to build wheel: started\n",
      "  Getting requirements to build wheel: finished with status 'done'\n",
      "  Preparing metadata (pyproject.toml): started\n",
      "  Preparing metadata (pyproject.toml): finished with status 'done'\n",
      "Requirement already satisfied: pyparsing>=2.0.1 in c:\\users\\shruti\\appdata\\local\\programs\\python\\python311\\lib\\site-packages (from pydotplus) (3.1.1)\n",
      "Building wheels for collected packages: pydotplus\n",
      "  Building wheel for pydotplus (pyproject.toml): started\n",
      "  Building wheel for pydotplus (pyproject.toml): finished with status 'done'\n",
      "  Created wheel for pydotplus: filename=pydotplus-2.0.2-py3-none-any.whl size=24575 sha256=29a6f12217e6c53f9761c364432e97c8cbf8965a5a60a6365714b96a77ed4f2f\n",
      "  Stored in directory: c:\\users\\shruti\\appdata\\local\\pip\\cache\\wheels\\bd\\ce\\e8\\ff9d9c699514922f57caa22fbd55b0a32761114b4c4acc9e03\n",
      "Successfully built pydotplus\n",
      "Installing collected packages: pydotplus\n",
      "Successfully installed pydotplus-2.0.2\n",
      "Note: you may need to restart the kernel to use updated packages.\n"
     ]
    },
    {
     "name": "stderr",
     "output_type": "stream",
     "text": [
      "\n",
      "[notice] A new release of pip is available: 23.2.1 -> 24.0\n",
      "[notice] To update, run: python.exe -m pip install --upgrade pip\n"
     ]
    }
   ],
   "source": [
    "pip install pydotplus"
   ]
  },
  {
   "cell_type": "code",
   "execution_count": 32,
   "id": "02b76610-80c1-4345-b9f7-1e7d86afe953",
   "metadata": {},
   "outputs": [
    {
     "ename": "InvocationException",
     "evalue": "GraphViz's executables not found",
     "output_type": "error",
     "traceback": [
      "\u001b[1;31m---------------------------------------------------------------------------\u001b[0m",
      "\u001b[1;31mInvocationException\u001b[0m                       Traceback (most recent call last)",
      "Cell \u001b[1;32mIn[32], line 12\u001b[0m\n\u001b[0;32m     10\u001b[0m graph \u001b[38;5;241m=\u001b[39m pydotplus\u001b[38;5;241m.\u001b[39mgraph_from_dot_data(data1)\n\u001b[0;32m     11\u001b[0m \u001b[38;5;66;03m#graph = pydotplus.graph_from_dot_data(data1)\u001b[39;00m\n\u001b[1;32m---> 12\u001b[0m \u001b[43mgraph\u001b[49m\u001b[38;5;241;43m.\u001b[39;49m\u001b[43mwrite_png\u001b[49m\u001b[43m(\u001b[49m\u001b[38;5;124;43m'\u001b[39;49m\u001b[38;5;124;43madmission.png\u001b[39;49m\u001b[38;5;124;43m'\u001b[39;49m\u001b[43m)\u001b[49m\n\u001b[0;32m     14\u001b[0m \u001b[38;5;66;03m#Image(graph.create_png())\u001b[39;00m\n\u001b[0;32m     15\u001b[0m Image(graph\u001b[38;5;241m.\u001b[39mcreate_png())\n",
      "File \u001b[1;32m~\\AppData\\Local\\Programs\\Python\\Python311\\Lib\\site-packages\\pydotplus\\graphviz.py:1810\u001b[0m, in \u001b[0;36mDot.__init__.<locals>.<lambda>\u001b[1;34m(path, f, prog)\u001b[0m\n\u001b[0;32m   1800\u001b[0m     f\u001b[38;5;241m.\u001b[39m\u001b[38;5;18m__doc__\u001b[39m \u001b[38;5;241m=\u001b[39m (\n\u001b[0;32m   1801\u001b[0m \u001b[38;5;250m        \u001b[39m\u001b[38;5;124;03m'''Refer to the docstring accompanying the'''\u001b[39;00m\n\u001b[0;32m   1802\u001b[0m \u001b[38;5;250m        \u001b[39m\u001b[38;5;124;03m''''create' method for more information.'''\u001b[39;00m\n\u001b[0;32m   1803\u001b[0m     )\n\u001b[0;32m   1805\u001b[0m \u001b[38;5;28;01mfor\u001b[39;00m frmt \u001b[38;5;129;01min\u001b[39;00m \u001b[38;5;28mself\u001b[39m\u001b[38;5;241m.\u001b[39mformats \u001b[38;5;241m+\u001b[39m [\u001b[38;5;124m'\u001b[39m\u001b[38;5;124mraw\u001b[39m\u001b[38;5;124m'\u001b[39m]:\n\u001b[0;32m   1806\u001b[0m     \u001b[38;5;28mself\u001b[39m\u001b[38;5;241m.\u001b[39m\u001b[38;5;21m__setattr__\u001b[39m(\n\u001b[0;32m   1807\u001b[0m         \u001b[38;5;124m'\u001b[39m\u001b[38;5;124mwrite_\u001b[39m\u001b[38;5;124m'\u001b[39m \u001b[38;5;241m+\u001b[39m frmt,\n\u001b[0;32m   1808\u001b[0m         \u001b[38;5;28;01mlambda\u001b[39;00m path,\n\u001b[0;32m   1809\u001b[0m         f\u001b[38;5;241m=\u001b[39mfrmt,\n\u001b[1;32m-> 1810\u001b[0m         prog\u001b[38;5;241m=\u001b[39m\u001b[38;5;28mself\u001b[39m\u001b[38;5;241m.\u001b[39mprog: \u001b[38;5;28;43mself\u001b[39;49m\u001b[38;5;241;43m.\u001b[39;49m\u001b[43mwrite\u001b[49m\u001b[43m(\u001b[49m\u001b[43mpath\u001b[49m\u001b[43m,\u001b[49m\u001b[43m \u001b[49m\u001b[38;5;28;43mformat\u001b[39;49m\u001b[38;5;241;43m=\u001b[39;49m\u001b[43mf\u001b[49m\u001b[43m,\u001b[49m\u001b[43m \u001b[49m\u001b[43mprog\u001b[49m\u001b[38;5;241;43m=\u001b[39;49m\u001b[43mprog\u001b[49m\u001b[43m)\u001b[49m\n\u001b[0;32m   1811\u001b[0m     )\n\u001b[0;32m   1813\u001b[0m     f \u001b[38;5;241m=\u001b[39m \u001b[38;5;28mself\u001b[39m\u001b[38;5;241m.\u001b[39m\u001b[38;5;18m__dict__\u001b[39m[\u001b[38;5;124m'\u001b[39m\u001b[38;5;124mwrite_\u001b[39m\u001b[38;5;124m'\u001b[39m \u001b[38;5;241m+\u001b[39m frmt]\n\u001b[0;32m   1814\u001b[0m     f\u001b[38;5;241m.\u001b[39m\u001b[38;5;18m__doc__\u001b[39m \u001b[38;5;241m=\u001b[39m (\n\u001b[0;32m   1815\u001b[0m \u001b[38;5;250m        \u001b[39m\u001b[38;5;124;03m'''Refer to the docstring accompanying the'''\u001b[39;00m\n\u001b[0;32m   1816\u001b[0m \u001b[38;5;250m        \u001b[39m\u001b[38;5;124;03m''''write' method for more information.'''\u001b[39;00m\n\u001b[0;32m   1817\u001b[0m     )\n",
      "File \u001b[1;32m~\\AppData\\Local\\Programs\\Python\\Python311\\Lib\\site-packages\\pydotplus\\graphviz.py:1918\u001b[0m, in \u001b[0;36mDot.write\u001b[1;34m(self, path, prog, format)\u001b[0m\n\u001b[0;32m   1915\u001b[0m         fobj\u001b[38;5;241m.\u001b[39mwrite(data)\n\u001b[0;32m   1917\u001b[0m     \u001b[38;5;28;01melse\u001b[39;00m:\n\u001b[1;32m-> 1918\u001b[0m         fobj\u001b[38;5;241m.\u001b[39mwrite(\u001b[38;5;28;43mself\u001b[39;49m\u001b[38;5;241;43m.\u001b[39;49m\u001b[43mcreate\u001b[49m\u001b[43m(\u001b[49m\u001b[43mprog\u001b[49m\u001b[43m,\u001b[49m\u001b[43m \u001b[49m\u001b[38;5;28;43mformat\u001b[39;49m\u001b[43m)\u001b[49m)\n\u001b[0;32m   1919\u001b[0m \u001b[38;5;28;01mfinally\u001b[39;00m:\n\u001b[0;32m   1920\u001b[0m     \u001b[38;5;28;01mif\u001b[39;00m close:\n",
      "File \u001b[1;32m~\\AppData\\Local\\Programs\\Python\\Python311\\Lib\\site-packages\\pydotplus\\graphviz.py:1959\u001b[0m, in \u001b[0;36mDot.create\u001b[1;34m(self, prog, format)\u001b[0m\n\u001b[0;32m   1957\u001b[0m     \u001b[38;5;28mself\u001b[39m\u001b[38;5;241m.\u001b[39mprogs \u001b[38;5;241m=\u001b[39m find_graphviz()\n\u001b[0;32m   1958\u001b[0m     \u001b[38;5;28;01mif\u001b[39;00m \u001b[38;5;28mself\u001b[39m\u001b[38;5;241m.\u001b[39mprogs \u001b[38;5;129;01mis\u001b[39;00m \u001b[38;5;28;01mNone\u001b[39;00m:\n\u001b[1;32m-> 1959\u001b[0m         \u001b[38;5;28;01mraise\u001b[39;00m InvocationException(\n\u001b[0;32m   1960\u001b[0m             \u001b[38;5;124m'\u001b[39m\u001b[38;5;124mGraphViz\u001b[39m\u001b[38;5;130;01m\\'\u001b[39;00m\u001b[38;5;124ms executables not found\u001b[39m\u001b[38;5;124m'\u001b[39m)\n\u001b[0;32m   1962\u001b[0m \u001b[38;5;28;01mif\u001b[39;00m prog \u001b[38;5;129;01mnot\u001b[39;00m \u001b[38;5;129;01min\u001b[39;00m \u001b[38;5;28mself\u001b[39m\u001b[38;5;241m.\u001b[39mprogs:\n\u001b[0;32m   1963\u001b[0m     \u001b[38;5;28;01mraise\u001b[39;00m InvocationException(\n\u001b[0;32m   1964\u001b[0m         \u001b[38;5;124m'\u001b[39m\u001b[38;5;124mGraphViz\u001b[39m\u001b[38;5;130;01m\\'\u001b[39;00m\u001b[38;5;124ms executable \u001b[39m\u001b[38;5;124m\"\u001b[39m\u001b[38;5;132;01m%s\u001b[39;00m\u001b[38;5;124m\"\u001b[39m\u001b[38;5;124m not found\u001b[39m\u001b[38;5;124m'\u001b[39m \u001b[38;5;241m%\u001b[39m prog)\n",
      "\u001b[1;31mInvocationException\u001b[0m: GraphViz's executables not found"
     ]
    }
   ],
   "source": [
    "import graphviz\n",
    "from sklearn.tree import export_graphviz\n",
    "from six import StringIO\n",
    "from IPython.display import Image\n",
    "import pydotplus\n",
    "\n",
    "dot_data =StringIO()\n",
    "#export_graphviz(clf, out_file=dot_data, filled=True, rounded=True, special_characters=True, feature_names=features_cols, class_names=['0','1'])\n",
    "data1= export_graphviz(clf1, out_file=None, feature_names=features_cols)\n",
    "graph = pydotplus.graph_from_dot_data(data1)\n",
    "#graph = pydotplus.graph_from_dot_data(data1)\n",
    "graph.write_png('admission.png')\n",
    "\n",
    "#Image(graph.create_png())\n",
    "Image(graph.create_png())"
   ]
  },
  {
   "cell_type": "code",
   "execution_count": null,
   "id": "a90b4f08-d1d4-4070-b9d6-d94ba9f092f3",
   "metadata": {},
   "outputs": [],
   "source": []
  }
 ],
 "metadata": {
  "kernelspec": {
   "display_name": "Python 3 (ipykernel)",
   "language": "python",
   "name": "python3"
  },
  "language_info": {
   "codemirror_mode": {
    "name": "ipython",
    "version": 3
   },
   "file_extension": ".py",
   "mimetype": "text/x-python",
   "name": "python",
   "nbconvert_exporter": "python",
   "pygments_lexer": "ipython3",
   "version": "3.11.3"
  }
 },
 "nbformat": 4,
 "nbformat_minor": 5
}
