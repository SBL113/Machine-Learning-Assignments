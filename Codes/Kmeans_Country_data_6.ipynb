{
 "cells": [
  {
   "cell_type": "code",
   "execution_count": 1,
   "id": "6d38ff3b-7384-45bb-a2db-5e66a17cbd22",
   "metadata": {},
   "outputs": [],
   "source": [
    "import pandas as pd\n",
    "import numpy as np\n",
    "data=pd.read_csv(\"C:/Users/Admin/Desktop/Country-data.csv\")"
   ]
  },
  {
   "cell_type": "code",
   "execution_count": 2,
   "id": "9f57e879-dee7-43ac-87ff-23dfeb249d4a",
   "metadata": {},
   "outputs": [
    {
     "data": {
      "text/plain": [
       "(167, 10)"
      ]
     },
     "execution_count": 2,
     "metadata": {},
     "output_type": "execute_result"
    }
   ],
   "source": [
    "data.shape"
   ]
  },
  {
   "cell_type": "code",
   "execution_count": 3,
   "id": "0264abf5-fcc7-438f-9915-140379952451",
   "metadata": {},
   "outputs": [
    {
     "data": {
      "text/html": [
       "<div>\n",
       "<style scoped>\n",
       "    .dataframe tbody tr th:only-of-type {\n",
       "        vertical-align: middle;\n",
       "    }\n",
       "\n",
       "    .dataframe tbody tr th {\n",
       "        vertical-align: top;\n",
       "    }\n",
       "\n",
       "    .dataframe thead th {\n",
       "        text-align: right;\n",
       "    }\n",
       "</style>\n",
       "<table border=\"1\" class=\"dataframe\">\n",
       "  <thead>\n",
       "    <tr style=\"text-align: right;\">\n",
       "      <th></th>\n",
       "      <th>country</th>\n",
       "      <th>child_mort</th>\n",
       "      <th>exports</th>\n",
       "      <th>health</th>\n",
       "      <th>imports</th>\n",
       "      <th>income</th>\n",
       "      <th>inflation</th>\n",
       "      <th>life_expec</th>\n",
       "      <th>total_fer</th>\n",
       "      <th>gdpp</th>\n",
       "    </tr>\n",
       "  </thead>\n",
       "  <tbody>\n",
       "    <tr>\n",
       "      <th>0</th>\n",
       "      <td>Afghanistan</td>\n",
       "      <td>90.2</td>\n",
       "      <td>10.0</td>\n",
       "      <td>7.58</td>\n",
       "      <td>44.9</td>\n",
       "      <td>1610</td>\n",
       "      <td>9.44</td>\n",
       "      <td>56.2</td>\n",
       "      <td>5.82</td>\n",
       "      <td>553</td>\n",
       "    </tr>\n",
       "    <tr>\n",
       "      <th>1</th>\n",
       "      <td>Albania</td>\n",
       "      <td>16.6</td>\n",
       "      <td>28.0</td>\n",
       "      <td>6.55</td>\n",
       "      <td>48.6</td>\n",
       "      <td>9930</td>\n",
       "      <td>4.49</td>\n",
       "      <td>76.3</td>\n",
       "      <td>1.65</td>\n",
       "      <td>4090</td>\n",
       "    </tr>\n",
       "    <tr>\n",
       "      <th>2</th>\n",
       "      <td>Algeria</td>\n",
       "      <td>27.3</td>\n",
       "      <td>38.4</td>\n",
       "      <td>4.17</td>\n",
       "      <td>31.4</td>\n",
       "      <td>12900</td>\n",
       "      <td>16.10</td>\n",
       "      <td>76.5</td>\n",
       "      <td>2.89</td>\n",
       "      <td>4460</td>\n",
       "    </tr>\n",
       "    <tr>\n",
       "      <th>3</th>\n",
       "      <td>Angola</td>\n",
       "      <td>119.0</td>\n",
       "      <td>62.3</td>\n",
       "      <td>2.85</td>\n",
       "      <td>42.9</td>\n",
       "      <td>5900</td>\n",
       "      <td>22.40</td>\n",
       "      <td>60.1</td>\n",
       "      <td>6.16</td>\n",
       "      <td>3530</td>\n",
       "    </tr>\n",
       "    <tr>\n",
       "      <th>4</th>\n",
       "      <td>Antigua and Barbuda</td>\n",
       "      <td>10.3</td>\n",
       "      <td>45.5</td>\n",
       "      <td>6.03</td>\n",
       "      <td>58.9</td>\n",
       "      <td>19100</td>\n",
       "      <td>1.44</td>\n",
       "      <td>76.8</td>\n",
       "      <td>2.13</td>\n",
       "      <td>12200</td>\n",
       "    </tr>\n",
       "  </tbody>\n",
       "</table>\n",
       "</div>"
      ],
      "text/plain": [
       "               country  child_mort  exports  health  imports  income  \\\n",
       "0          Afghanistan        90.2     10.0    7.58     44.9    1610   \n",
       "1              Albania        16.6     28.0    6.55     48.6    9930   \n",
       "2              Algeria        27.3     38.4    4.17     31.4   12900   \n",
       "3               Angola       119.0     62.3    2.85     42.9    5900   \n",
       "4  Antigua and Barbuda        10.3     45.5    6.03     58.9   19100   \n",
       "\n",
       "   inflation  life_expec  total_fer   gdpp  \n",
       "0       9.44        56.2       5.82    553  \n",
       "1       4.49        76.3       1.65   4090  \n",
       "2      16.10        76.5       2.89   4460  \n",
       "3      22.40        60.1       6.16   3530  \n",
       "4       1.44        76.8       2.13  12200  "
      ]
     },
     "execution_count": 3,
     "metadata": {},
     "output_type": "execute_result"
    }
   ],
   "source": [
    "data.head()"
   ]
  },
  {
   "cell_type": "code",
   "execution_count": 4,
   "id": "2191fbd8-0e1a-4f6c-88ec-bc47e323e4bf",
   "metadata": {},
   "outputs": [
    {
     "data": {
      "text/plain": [
       "Index(['country', 'child_mort', 'exports', 'health', 'imports', 'income',\n",
       "       'inflation', 'life_expec', 'total_fer', 'gdpp'],\n",
       "      dtype='object')"
      ]
     },
     "execution_count": 4,
     "metadata": {},
     "output_type": "execute_result"
    }
   ],
   "source": [
    "data.columns"
   ]
  },
  {
   "cell_type": "code",
   "execution_count": 5,
   "id": "7a05d6a7-58a0-4375-8e9f-9ea532b5bc8d",
   "metadata": {},
   "outputs": [
    {
     "name": "stdout",
     "output_type": "stream",
     "text": [
      "No duplicates found.\n"
     ]
    }
   ],
   "source": [
    "duplicate_rows = data[data.duplicated()]\n",
    "if duplicate_rows.empty:\n",
    "    print(\"No duplicates found.\")\n",
    "else:\n",
    "    print(\"Duplicate rows found:\")\n",
    "    print(duplicate_rows)"
   ]
  },
  {
   "cell_type": "code",
   "execution_count": 6,
   "id": "15c3669c-6c04-40c6-9593-68e02aa50fae",
   "metadata": {},
   "outputs": [
    {
     "name": "stdout",
     "output_type": "stream",
     "text": [
      "Duplicate rows found:\n",
      "                 country  child_mort  exports  health  imports  income  \\\n",
      "167          Afghanistan        90.2     10.0    7.58     44.9    1610   \n",
      "168              Albania        16.6     28.0    6.55     48.6    9930   \n",
      "169              Algeria        27.3     38.4    4.17     31.4   12900   \n",
      "170               Angola       119.0     62.3    2.85     42.9    5900   \n",
      "171  Antigua and Barbuda        10.3     45.5    6.03     58.9   19100   \n",
      "\n",
      "     inflation  life_expec  total_fer   gdpp  \n",
      "167       9.44        56.2       5.82    553  \n",
      "168       4.49        76.3       1.65   4090  \n",
      "169      16.10        76.5       2.89   4460  \n",
      "170      22.40        60.1       6.16   3530  \n",
      "171       1.44        76.8       2.13  12200  \n"
     ]
    }
   ],
   "source": [
    "# Add some duplicate rows\n",
    "data = pd.concat([data, data.iloc[0:5]], ignore_index=True)\n",
    "duplicate_rows = data[data.duplicated()]\n",
    "if duplicate_rows.empty:\n",
    "    print(\"No duplicates found.\")\n",
    "else:\n",
    "    print(\"Duplicate rows found:\")\n",
    "    print(duplicate_rows)"
   ]
  },
  {
   "cell_type": "code",
   "execution_count": 7,
   "id": "9c1c3cbe-7cff-4a42-bb6f-645a922f0c60",
   "metadata": {},
   "outputs": [
    {
     "name": "stdout",
     "output_type": "stream",
     "text": [
      "No duplicates found.\n"
     ]
    }
   ],
   "source": [
    "data = data.drop_duplicates()\n",
    "duplicate_rows = data[data.duplicated()]\n",
    "if duplicate_rows.empty:\n",
    "    print(\"No duplicates found.\")\n",
    "else:\n",
    "    print(\"Duplicate rows found:\")\n",
    "    print(duplicate_rows)"
   ]
  },
  {
   "cell_type": "code",
   "execution_count": 8,
   "id": "81c4f101-3045-4a31-aa9c-866f367dee91",
   "metadata": {},
   "outputs": [
    {
     "name": "stdout",
     "output_type": "stream",
     "text": [
      "No NaN or null values found in the dataset.\n"
     ]
    }
   ],
   "source": [
    "null_values = data.isna().sum()\n",
    "if null_values.sum() == 0:\n",
    "    print(\"No NaN or null values found in the dataset.\")\n",
    "else:\n",
    "    print(\"NaN or null values found in the dataset:\")\n",
    "    print(null_values)"
   ]
  },
  {
   "cell_type": "code",
   "execution_count": 10,
   "id": "5dfa8b28-0869-4cd1-b8cf-20f49cccd9db",
   "metadata": {},
   "outputs": [
    {
     "name": "stdout",
     "output_type": "stream",
     "text": [
      "                 country  child_mort  exports  health  imports income  \\\n",
      "0            Afghanistan        90.2     10.0    7.58     44.9   1610   \n",
      "1                Albania        16.6     28.0    6.55     48.6   9930   \n",
      "2                Algeria        27.3     38.4    4.17     31.4  12900   \n",
      "3                 Angola       119.0     62.3    2.85     42.9   5900   \n",
      "4    Antigua and Barbuda        10.3     45.5    6.03     58.9  19100   \n",
      "..                   ...         ...      ...     ...      ...    ...   \n",
      "165                Yemen        56.3     30.0    5.18     34.4   4480   \n",
      "166               Zambia        83.1     37.0    5.89     30.9   3280   \n",
      "167                  NaN         NaN      NaN     NaN      NaN   None   \n",
      "168                  NaN         NaN      NaN     NaN      NaN   None   \n",
      "169                  NaN         NaN      NaN     NaN      NaN   None   \n",
      "\n",
      "     inflation  life_expec  total_fer     gdpp  \n",
      "0         9.44        56.2       5.82    553.0  \n",
      "1         4.49        76.3       1.65   4090.0  \n",
      "2        16.10        76.5       2.89   4460.0  \n",
      "3        22.40        60.1       6.16   3530.0  \n",
      "4         1.44        76.8       2.13  12200.0  \n",
      "..         ...         ...        ...      ...  \n",
      "165      23.60        67.5       4.67   1310.0  \n",
      "166      14.00        52.0       5.40   1460.0  \n",
      "167        NaN         NaN        NaN      NaN  \n",
      "168        NaN         NaN        NaN      NaN  \n",
      "169        NaN         NaN        NaN      NaN  \n",
      "\n",
      "[170 rows x 10 columns]\n"
     ]
    }
   ],
   "source": [
    "# New rows to be added\n",
    "new_rows = {\n",
    "    'income': [None, None, None],\n",
    "    'inflation': [np.nan, np.nan, np.nan]\n",
    "}\n",
    "# Convert to DataFrame\n",
    "new_df = pd.DataFrame(new_rows)\n",
    "# Append new rows to the DataFrame\n",
    "data = pd.concat([data, new_df], ignore_index=True)\n",
    "print(data)\n"
   ]
  },
  {
   "cell_type": "code",
   "execution_count": 11,
   "id": "98364a28-c894-4197-9e83-18d6b09ce9ff",
   "metadata": {},
   "outputs": [
    {
     "name": "stdout",
     "output_type": "stream",
     "text": [
      "<bound method NDFrame.head of      country  child_mort  exports  health  imports income  inflation  \\\n",
      "0          0        90.2     10.0    7.58     44.9   1610       9.44   \n",
      "1          1        16.6     28.0    6.55     48.6   9930       4.49   \n",
      "2          2        27.3     38.4    4.17     31.4  12900      16.10   \n",
      "3          3       119.0     62.3    2.85     42.9   5900      22.40   \n",
      "4          4        10.3     45.5    6.03     58.9  19100       1.44   \n",
      "..       ...         ...      ...     ...      ...    ...        ...   \n",
      "165      165        56.3     30.0    5.18     34.4   4480      23.60   \n",
      "166      166        83.1     37.0    5.89     30.9   3280      14.00   \n",
      "167      167         NaN      NaN     NaN      NaN   None        NaN   \n",
      "168      167         NaN      NaN     NaN      NaN   None        NaN   \n",
      "169      167         NaN      NaN     NaN      NaN   None        NaN   \n",
      "\n",
      "     life_expec  total_fer     gdpp  \n",
      "0          56.2       5.82    553.0  \n",
      "1          76.3       1.65   4090.0  \n",
      "2          76.5       2.89   4460.0  \n",
      "3          60.1       6.16   3530.0  \n",
      "4          76.8       2.13  12200.0  \n",
      "..          ...        ...      ...  \n",
      "165        67.5       4.67   1310.0  \n",
      "166        52.0       5.40   1460.0  \n",
      "167         NaN        NaN      NaN  \n",
      "168         NaN        NaN      NaN  \n",
      "169         NaN        NaN      NaN  \n",
      "\n",
      "[170 rows x 10 columns]>\n"
     ]
    }
   ],
   "source": [
    "from sklearn.preprocessing import LabelEncoder\n",
    "# Create LabelEncoder objects\n",
    "country_encoder = LabelEncoder()\n",
    "# Fit and transform the 'country' column\n",
    "country_encoded = country_encoder.fit_transform(data['country'])\n",
    "# Replace the original 'country' column with the encoded values\n",
    "data['country'] = country_encoded\n",
    "print(data.head)"
   ]
  },
  {
   "cell_type": "code",
   "execution_count": 12,
   "id": "df417149-48dc-44b7-a903-c287097667ed",
   "metadata": {},
   "outputs": [
    {
     "data": {
      "text/plain": [
       "country       0\n",
       "child_mort    0\n",
       "exports       0\n",
       "health        0\n",
       "imports       0\n",
       "income        0\n",
       "inflation     0\n",
       "life_expec    0\n",
       "total_fer     0\n",
       "gdpp          0\n",
       "dtype: int64"
      ]
     },
     "execution_count": 12,
     "metadata": {},
     "output_type": "execute_result"
    }
   ],
   "source": [
    "data.fillna(data.mean(), inplace=True)\n",
    "data.isna().sum()"
   ]
  },
  {
   "cell_type": "code",
   "execution_count": 13,
   "id": "d352f5d2-c009-4a1f-a4ec-ccc6caa9df5c",
   "metadata": {},
   "outputs": [
    {
     "data": {
      "image/png": "[encoded data removed]",
      "text/plain": [
       "<Figure size 640x480 with 1 Axes>"
      ]
     },
     "metadata": {},
     "output_type": "display_data"
    }
   ],
   "source": [
    "import matplotlib.pyplot as plt\n",
    "%matplotlib inline\n",
    "plt.boxplot(data['income'])\n",
    "plt.show()"
   ]
  },
  {
   "cell_type": "code",
   "execution_count": 14,
   "id": "a0975ee6-8228-46a5-9556-dfd42453548e",
   "metadata": {},
   "outputs": [
    {
     "name": "stderr",
     "output_type": "stream",
     "text": [
      "C:\\Users\\Admin\\AppData\\Local\\Temp\\ipykernel_12896\\3093681524.py:8: FutureWarning: Calling int on a single element Series is deprecated and will raise a TypeError in the future. Use int(ser.iloc[0]) instead\n",
      "  IQR_LL = int(Q1 - 1.5*IQR)\n",
      "C:\\Users\\Admin\\AppData\\Local\\Temp\\ipykernel_12896\\3093681524.py:9: FutureWarning: Calling int on a single element Series is deprecated and will raise a TypeError in the future. Use int(ser.iloc[0]) instead\n",
      "  IQR_UL = int(Q3 + 1.5*IQR)\n",
      "C:\\Users\\Admin\\AppData\\Local\\Temp\\ipykernel_12896\\3093681524.py:11: FutureWarning: Calling int on a single element Series is deprecated and will raise a TypeError in the future. Use int(ser.iloc[0]) instead\n",
      "  data.loc[data['income']>IQR_UL , 'income'] = int(income_col_df.quantile(q=0.90))\n",
      "C:\\Users\\Admin\\AppData\\Local\\Temp\\ipykernel_12896\\3093681524.py:12: FutureWarning: Calling int on a single element Series is deprecated and will raise a TypeError in the future. Use int(ser.iloc[0]) instead\n",
      "  data.loc[data['income']<IQR_LL , 'income'] = int(income_col_df.quantile(q=0.01))\n"
     ]
    }
   ],
   "source": [
    "income_col_df = pd.DataFrame(data['income'])\n",
    "income_median = income_col_df.median()\n",
    "#getting IQR of Age column\n",
    "Q3 = income_col_df.quantile(q=0.75)\n",
    "Q1 = income_col_df.quantile(q=0.25)\n",
    "IQR = Q3-Q1\n",
    "#Deriving boundaries of Outliers\n",
    "IQR_LL = int(Q1 - 1.5*IQR)\n",
    "IQR_UL = int(Q3 + 1.5*IQR)\n",
    "#Finding and treating outliers - both lower and upper end\n",
    "data.loc[data['income']>IQR_UL , 'income'] = int(income_col_df.quantile(q=0.90))\n",
    "data.loc[data['income']<IQR_LL , 'income'] = int(income_col_df.quantile(q=0.01))"
   ]
  },
  {
   "cell_type": "code",
   "execution_count": 15,
   "id": "e7ccc6d7-cc05-4ff8-9af3-a744fe0fa860",
   "metadata": {},
   "outputs": [
    {
     "data": {
      "image/png": "[encoded data removed]",
      "text/plain": [
       "<Figure size 640x480 with 1 Axes>"
      ]
     },
     "metadata": {},
     "output_type": "display_data"
    }
   ],
   "source": [
    "import matplotlib.pyplot as plt\n",
    "%matplotlib inline\n",
    "plt.boxplot(data['income'])\n",
    "plt.show()"
   ]
  },
  {
   "cell_type": "code",
   "execution_count": 16,
   "id": "245ca550-a8a7-4176-b301-fae9f9feee54",
   "metadata": {},
   "outputs": [
    {
     "name": "stderr",
     "output_type": "stream",
     "text": [
      "C:\\Users\\Admin\\anaconda3\\Lib\\site-packages\\sklearn\\cluster\\_kmeans.py:870: FutureWarning: The default value of `n_init` will change from 10 to 'auto' in 1.4. Set the value of `n_init` explicitly to suppress the warning\n",
      "  warnings.warn(\n",
      "C:\\Users\\Admin\\anaconda3\\Lib\\site-packages\\sklearn\\cluster\\_kmeans.py:1382: UserWarning: KMeans is known to have a memory leak on Windows with MKL, when there are less chunks than available threads. You can avoid it by setting the environment variable OMP_NUM_THREADS=1.\n",
      "  warnings.warn(\n"
     ]
    },
    {
     "name": "stdout",
     "output_type": "stream",
     "text": [
      "[33042170784.31826]\n"
     ]
    },
    {
     "name": "stderr",
     "output_type": "stream",
     "text": [
      "C:\\Users\\Admin\\anaconda3\\Lib\\site-packages\\sklearn\\cluster\\_kmeans.py:870: FutureWarning: The default value of `n_init` will change from 10 to 'auto' in 1.4. Set the value of `n_init` explicitly to suppress the warning\n",
      "  warnings.warn(\n",
      "C:\\Users\\Admin\\anaconda3\\Lib\\site-packages\\sklearn\\cluster\\_kmeans.py:1382: UserWarning: KMeans is known to have a memory leak on Windows with MKL, when there are less chunks than available threads. You can avoid it by setting the environment variable OMP_NUM_THREADS=1.\n",
      "  warnings.warn(\n"
     ]
    },
    {
     "name": "stdout",
     "output_type": "stream",
     "text": [
      "[33042170784.31826, 7132280012.647079]\n"
     ]
    },
    {
     "name": "stderr",
     "output_type": "stream",
     "text": [
      "C:\\Users\\Admin\\anaconda3\\Lib\\site-packages\\sklearn\\cluster\\_kmeans.py:870: FutureWarning: The default value of `n_init` will change from 10 to 'auto' in 1.4. Set the value of `n_init` explicitly to suppress the warning\n",
      "  warnings.warn(\n",
      "C:\\Users\\Admin\\anaconda3\\Lib\\site-packages\\sklearn\\cluster\\_kmeans.py:1382: UserWarning: KMeans is known to have a memory leak on Windows with MKL, when there are less chunks than available threads. You can avoid it by setting the environment variable OMP_NUM_THREADS=1.\n",
      "  warnings.warn(\n"
     ]
    },
    {
     "name": "stdout",
     "output_type": "stream",
     "text": [
      "[33042170784.31826, 7132280012.647079, 2726919486.998007]\n"
     ]
    },
    {
     "name": "stderr",
     "output_type": "stream",
     "text": [
      "C:\\Users\\Admin\\anaconda3\\Lib\\site-packages\\sklearn\\cluster\\_kmeans.py:870: FutureWarning: The default value of `n_init` will change from 10 to 'auto' in 1.4. Set the value of `n_init` explicitly to suppress the warning\n",
      "  warnings.warn(\n",
      "C:\\Users\\Admin\\anaconda3\\Lib\\site-packages\\sklearn\\cluster\\_kmeans.py:1382: UserWarning: KMeans is known to have a memory leak on Windows with MKL, when there are less chunks than available threads. You can avoid it by setting the environment variable OMP_NUM_THREADS=1.\n",
      "  warnings.warn(\n"
     ]
    },
    {
     "name": "stdout",
     "output_type": "stream",
     "text": [
      "[33042170784.31826, 7132280012.647079, 2726919486.998007, 1587432861.7216258]\n"
     ]
    },
    {
     "name": "stderr",
     "output_type": "stream",
     "text": [
      "C:\\Users\\Admin\\anaconda3\\Lib\\site-packages\\sklearn\\cluster\\_kmeans.py:870: FutureWarning: The default value of `n_init` will change from 10 to 'auto' in 1.4. Set the value of `n_init` explicitly to suppress the warning\n",
      "  warnings.warn(\n",
      "C:\\Users\\Admin\\anaconda3\\Lib\\site-packages\\sklearn\\cluster\\_kmeans.py:1382: UserWarning: KMeans is known to have a memory leak on Windows with MKL, when there are less chunks than available threads. You can avoid it by setting the environment variable OMP_NUM_THREADS=1.\n",
      "  warnings.warn(\n"
     ]
    },
    {
     "name": "stdout",
     "output_type": "stream",
     "text": [
      "[33042170784.31826, 7132280012.647079, 2726919486.998007, 1587432861.7216258, 878372382.461838]\n"
     ]
    },
    {
     "name": "stderr",
     "output_type": "stream",
     "text": [
      "C:\\Users\\Admin\\anaconda3\\Lib\\site-packages\\sklearn\\cluster\\_kmeans.py:870: FutureWarning: The default value of `n_init` will change from 10 to 'auto' in 1.4. Set the value of `n_init` explicitly to suppress the warning\n",
      "  warnings.warn(\n",
      "C:\\Users\\Admin\\anaconda3\\Lib\\site-packages\\sklearn\\cluster\\_kmeans.py:1382: UserWarning: KMeans is known to have a memory leak on Windows with MKL, when there are less chunks than available threads. You can avoid it by setting the environment variable OMP_NUM_THREADS=1.\n",
      "  warnings.warn(\n"
     ]
    },
    {
     "name": "stdout",
     "output_type": "stream",
     "text": [
      "[33042170784.31826, 7132280012.647079, 2726919486.998007, 1587432861.7216258, 878372382.461838, 641283092.7127041]\n"
     ]
    },
    {
     "name": "stderr",
     "output_type": "stream",
     "text": [
      "C:\\Users\\Admin\\anaconda3\\Lib\\site-packages\\sklearn\\cluster\\_kmeans.py:870: FutureWarning: The default value of `n_init` will change from 10 to 'auto' in 1.4. Set the value of `n_init` explicitly to suppress the warning\n",
      "  warnings.warn(\n",
      "C:\\Users\\Admin\\anaconda3\\Lib\\site-packages\\sklearn\\cluster\\_kmeans.py:1382: UserWarning: KMeans is known to have a memory leak on Windows with MKL, when there are less chunks than available threads. You can avoid it by setting the environment variable OMP_NUM_THREADS=1.\n",
      "  warnings.warn(\n"
     ]
    },
    {
     "name": "stdout",
     "output_type": "stream",
     "text": [
      "[33042170784.31826, 7132280012.647079, 2726919486.998007, 1587432861.7216258, 878372382.461838, 641283092.7127041, 499460158.9159651]\n"
     ]
    },
    {
     "name": "stderr",
     "output_type": "stream",
     "text": [
      "C:\\Users\\Admin\\anaconda3\\Lib\\site-packages\\sklearn\\cluster\\_kmeans.py:870: FutureWarning: The default value of `n_init` will change from 10 to 'auto' in 1.4. Set the value of `n_init` explicitly to suppress the warning\n",
      "  warnings.warn(\n",
      "C:\\Users\\Admin\\anaconda3\\Lib\\site-packages\\sklearn\\cluster\\_kmeans.py:1382: UserWarning: KMeans is known to have a memory leak on Windows with MKL, when there are less chunks than available threads. You can avoid it by setting the environment variable OMP_NUM_THREADS=1.\n",
      "  warnings.warn(\n"
     ]
    },
    {
     "name": "stdout",
     "output_type": "stream",
     "text": [
      "[33042170784.31826, 7132280012.647079, 2726919486.998007, 1587432861.7216258, 878372382.461838, 641283092.7127041, 499460158.9159651, 361381526.02495444]\n"
     ]
    },
    {
     "name": "stderr",
     "output_type": "stream",
     "text": [
      "C:\\Users\\Admin\\anaconda3\\Lib\\site-packages\\sklearn\\cluster\\_kmeans.py:870: FutureWarning: The default value of `n_init` will change from 10 to 'auto' in 1.4. Set the value of `n_init` explicitly to suppress the warning\n",
      "  warnings.warn(\n",
      "C:\\Users\\Admin\\anaconda3\\Lib\\site-packages\\sklearn\\cluster\\_kmeans.py:1382: UserWarning: KMeans is known to have a memory leak on Windows with MKL, when there are less chunks than available threads. You can avoid it by setting the environment variable OMP_NUM_THREADS=1.\n",
      "  warnings.warn(\n"
     ]
    },
    {
     "name": "stdout",
     "output_type": "stream",
     "text": [
      "[33042170784.31826, 7132280012.647079, 2726919486.998007, 1587432861.7216258, 878372382.461838, 641283092.7127041, 499460158.9159651, 361381526.02495444, 262319207.86411923]\n"
     ]
    },
    {
     "name": "stderr",
     "output_type": "stream",
     "text": [
      "C:\\Users\\Admin\\anaconda3\\Lib\\site-packages\\sklearn\\cluster\\_kmeans.py:870: FutureWarning: The default value of `n_init` will change from 10 to 'auto' in 1.4. Set the value of `n_init` explicitly to suppress the warning\n",
      "  warnings.warn(\n",
      "C:\\Users\\Admin\\anaconda3\\Lib\\site-packages\\sklearn\\cluster\\_kmeans.py:1382: UserWarning: KMeans is known to have a memory leak on Windows with MKL, when there are less chunks than available threads. You can avoid it by setting the environment variable OMP_NUM_THREADS=1.\n",
      "  warnings.warn(\n"
     ]
    },
    {
     "name": "stdout",
     "output_type": "stream",
     "text": [
      "[33042170784.31826, 7132280012.647079, 2726919486.998007, 1587432861.7216258, 878372382.461838, 641283092.7127041, 499460158.9159651, 361381526.02495444, 262319207.86411923, 211949087.39135882]\n"
     ]
    }
   ],
   "source": [
    "X = data.iloc[:, [5,6]].values\n",
    "X[0]\n",
    "X[1]\n",
    "\n",
    "from sklearn.cluster import KMeans\n",
    "list1 = []\n",
    "for i in range(1, 11):\n",
    "    Kmeans = KMeans(n_clusters=i, init='k-means++', random_state=42)\n",
    "    Kmeans.fit(X)\n",
    "    list1.append(Kmeans.inertia_)\n",
    "    print(list1)"
   ]
  },
  {
   "cell_type": "code",
   "execution_count": 17,
   "id": "cc311dfa-20ae-48ab-beb2-1e4670c9d0b2",
   "metadata": {},
   "outputs": [
    {
     "data": {
      "image/png": "[encoded data removed]",
      "text/plain": [
       "<Figure size 640x480 with 1 Axes>"
      ]
     },
     "metadata": {},
     "output_type": "display_data"
    }
   ],
   "source": [
    "plt.plot(range(1, 11), list1)\n",
    "plt.title('The Elbow  Method Graph')\n",
    "plt.xlabel('No. of Clusters(k)')\n",
    "plt.ylabel('List1')\n",
    "plt.show()"
   ]
  },
  {
   "cell_type": "code",
   "execution_count": 18,
   "id": "b075af49-0e0e-49bb-8181-e454b159f31d",
   "metadata": {},
   "outputs": [
    {
     "name": "stderr",
     "output_type": "stream",
     "text": [
      "C:\\Users\\Admin\\anaconda3\\Lib\\site-packages\\sklearn\\cluster\\_kmeans.py:1382: UserWarning: KMeans is known to have a memory leak on Windows with MKL, when there are less chunks than available threads. You can avoid it by setting the environment variable OMP_NUM_THREADS=1.\n",
      "  warnings.warn(\n"
     ]
    },
    {
     "name": "stdout",
     "output_type": "stream",
     "text": [
      "[2 2 0 2 0 0 2 1 1 0 0 1 2 0 0 1 2 2 2 2 2 0 0 1 0 2 2 2 2 1 2 2 2 0 2 0 2\n",
      " 2 2 0 2 0 1 1 1 0 2 2 2 1 2 0 2 1 1 0 2 2 1 2 1 0 2 2 2 2 2 0 1 2 2 0 0 1\n",
      " 1 1 2 1 2 0 2 2 1 2 2 0 0 2 2 1 0 1 0 2 2 0 2 2 1 2 0 2 2 2 0 2 2 2 2 2 1\n",
      " 1 2 2 1 1 2 0 2 2 2 0 0 1 0 0 2 2 1 2 0 0 2 1 0 1 2 0 1 1 2 2 2 0 1 1 2 2\n",
      " 0 2 2 2 2 0 2 2 2 1 1 1 0 2 2 0 2 2 2 0 0 0]\n"
     ]
    }
   ],
   "source": [
    "kmeans = KMeans(n_clusters=3, init='k-means++', max_iter=300, n_init=10, random_state=0)\n",
    "y_kmeans = kmeans.fit(X)\n",
    "from sklearn import metrics\n",
    "from sklearn.metrics import pairwise_distances\n",
    "labels = y_kmeans.labels_\n",
    "print(labels)"
   ]
  },
  {
   "cell_type": "code",
   "execution_count": 19,
   "id": "09f60ffb-c958-40ac-af5e-de3cdae0c3e4",
   "metadata": {},
   "outputs": [
    {
     "data": {
      "text/plain": [
       "0.6484767698001436"
      ]
     },
     "execution_count": 19,
     "metadata": {},
     "output_type": "execute_result"
    }
   ],
   "source": [
    "#Silhouette score measures how similar an object is to its own cluster (cohesion) compared to other clusters (separation).\n",
    "metrics.silhouette_score(X, labels, metric='euclidean')"
   ]
  },
  {
   "cell_type": "code",
   "execution_count": 20,
   "id": "fdbcec14-4611-4c3c-88a6-8bdbaf65eb3f",
   "metadata": {},
   "outputs": [
    {
     "name": "stderr",
     "output_type": "stream",
     "text": [
      "C:\\Users\\Admin\\anaconda3\\Lib\\site-packages\\sklearn\\cluster\\_kmeans.py:1382: UserWarning: KMeans is known to have a memory leak on Windows with MKL, when there are less chunks than available threads. You can avoid it by setting the environment variable OMP_NUM_THREADS=1.\n",
      "  warnings.warn(\n"
     ]
    },
    {
     "name": "stdout",
     "output_type": "stream",
     "text": [
      "[2 2 0 2 0 0 2 1 1 0 0 1 2 0 0 1 2 2 2 2 2 0 0 1 0 2 2 2 2 1 2 2 2 0 2 0 2\n",
      " 2 2 0 2 0 1 1 1 0 2 2 2 1 2 0 2 1 1 0 2 2 1 2 1 0 2 2 2 2 2 0 1 2 2 0 0 1\n",
      " 1 1 2 1 2 0 2 2 1 2 2 0 0 2 2 1 0 1 0 2 2 0 2 2 1 2 0 2 2 2 0 2 2 2 2 2 1\n",
      " 1 2 2 1 1 2 0 2 2 2 0 0 1 0 0 2 2 1 2 0 0 2 1 0 1 2 0 1 1 2 2 2 0 1 1 2 2\n",
      " 0 2 2 2 2 0 2 2 2 1 1 1 0 2 2 0 2 2 2 0 0 0]\n"
     ]
    }
   ],
   "source": [
    "y_kmeans = kmeans.fit_predict(X)\n",
    "print(y_kmeans)"
   ]
  },
  {
   "cell_type": "code",
   "execution_count": 21,
   "id": "fb0666b8-624d-4dd5-9638-4f6df44bf0c1",
   "metadata": {},
   "outputs": [
    {
     "data": {
      "image/png": "[encoded data removed]",
      "text/plain": [
       "<Figure size 640x480 with 1 Axes>"
      ]
     },
     "metadata": {},
     "output_type": "display_data"
    }
   ],
   "source": [
    "plt.scatter(X[y_kmeans==0, 0], X[y_kmeans==0, 1], s=100, c='red', label ='Cluster 1')\n",
    "plt.scatter(X[y_kmeans==1, 0], X[y_kmeans==1, 1], s=100, c='blue', label ='Cluster 2')\n",
    "plt.scatter(X[y_kmeans==2, 0], X[y_kmeans==2, 1], s=100, c='green', label ='Cluster 3')\n",
    "#Plot the centroid. This time we're going to use the cluster centres  #attribute that returns here the coordinates of the centroid.\n",
    "plt.scatter(kmeans.cluster_centers_[:, 0], kmeans.cluster_centers_[:, 1], s=300, c='yellow', label = 'Centroids')\n",
    "plt.title('Clusters of Countries')\n",
    "plt.xlabel('income')\n",
    "plt.ylabel('inflation')\n",
    "plt.show()"
   ]
  },
  {
   "cell_type": "code",
   "execution_count": 22,
   "id": "4a7a8c83-6392-495f-83ad-db01002d925b",
   "metadata": {},
   "outputs": [
    {
     "data": {
      "image/png": "[encoded data removed]",
      "text/plain": [
       "<Figure size 640x480 with 1 Axes>"
      ]
     },
     "metadata": {},
     "output_type": "display_data"
    }
   ],
   "source": [
    "import scipy.cluster.hierarchy as shc\n",
    "dendro = shc.dendrogram(shc.linkage(X, method=\"ward\"))\n",
    "plt.title(\"Dendrogram Plot\")\n",
    "plt.ylabel(\"Euclidian Distances\")\n",
    "plt.xlabel(\"Countries\")\n",
    "plt.show()"
   ]
  },
  {
   "cell_type": "code",
   "execution_count": 23,
   "id": "4d723c1a-cac7-44d1-bb38-9be6b80ce334",
   "metadata": {},
   "outputs": [
    {
     "name": "stderr",
     "output_type": "stream",
     "text": [
      "C:\\Users\\Admin\\anaconda3\\Lib\\site-packages\\sklearn\\cluster\\_agglomerative.py:983: FutureWarning: Attribute `affinity` was deprecated in version 1.2 and will be removed in 1.4. Use `metric` instead\n",
      "  warnings.warn(\n"
     ]
    },
    {
     "data": {
      "text/plain": [
       "0.6058331935967575"
      ]
     },
     "execution_count": 23,
     "metadata": {},
     "output_type": "execute_result"
    }
   ],
   "source": [
    "from sklearn.cluster import AgglomerativeClustering\n",
    "hc = AgglomerativeClustering(n_clusters=5, affinity='euclidean', linkage='ward')\n",
    "y_kmeans = hc.fit(X)\n",
    "labels = y_kmeans.labels_\n",
    "metrics.silhouette_score(X, labels, metric='euclidean')"
   ]
  },
  {
   "cell_type": "code",
   "execution_count": 24,
   "id": "4282e8de-436f-42ad-a2b3-2bfa3b0f2449",
   "metadata": {},
   "outputs": [
    {
     "name": "stderr",
     "output_type": "stream",
     "text": [
      "C:\\Users\\Admin\\anaconda3\\Lib\\site-packages\\sklearn\\cluster\\_agglomerative.py:983: FutureWarning: Attribute `affinity` was deprecated in version 1.2 and will be removed in 1.4. Use `metric` instead\n",
      "  warnings.warn(\n"
     ]
    },
    {
     "data": {
      "image/png": "[encoded data removed]",
      "text/plain": [
       "<Figure size 640x480 with 1 Axes>"
      ]
     },
     "metadata": {},
     "output_type": "display_data"
    }
   ],
   "source": [
    "#visualizing the clusters\n",
    "y_kmeans = hc.fit_predict(X)\n",
    "plt.scatter(X[y_kmeans==0, 0], X[y_kmeans==0, 1], s=100, c='red', label ='Cluster 1')\n",
    "plt.scatter(X[y_kmeans==1, 0], X[y_kmeans==1, 1], s=100, c='blue', label ='Cluster 2')\n",
    "plt.scatter(X[y_kmeans==2, 0], X[y_kmeans==2, 1], s=100, c='green', label ='Cluster 3')\n",
    "#Plot the centroid. This time we're going to use the cluster centres  #attribute that returns here the coordinates of the centroid.\n",
    "plt.title('Clusters of countries')\n",
    "plt.xlabel('income')\n",
    "plt.ylabel('inflation')\n",
    "plt.show()"
   ]
  }
 ],
 "metadata": {
  "kernelspec": {
   "display_name": "Python 3 (ipykernel)",
   "language": "python",
   "name": "python3"
  },
  "language_info": {
   "codemirror_mode": {
    "name": "ipython",
    "version": 3
   },
   "file_extension": ".py",
   "mimetype": "text/x-python",
   "name": "python",
   "nbconvert_exporter": "python",
   "pygments_lexer": "ipython3",
   "version": "3.11.3"
  }
 },
 "nbformat": 4,
 "nbformat_minor": 5
}
