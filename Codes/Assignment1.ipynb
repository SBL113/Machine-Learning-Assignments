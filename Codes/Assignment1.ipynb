{
 "cells": [
  {
   "cell_type": "code",
   "execution_count": 1,
   "id": "c1cc0483-855e-4ebb-a1eb-a01b7ef3c0bd",
   "metadata": {},
   "outputs": [],
   "source": [
    "#importing \n",
    "import pandas as pd\n",
    "import os\n"
   ]
  },
  {
   "cell_type": "code",
   "execution_count": 2,
   "id": "71007b81-7956-450a-8ffc-e73b351321bc",
   "metadata": {},
   "outputs": [],
   "source": [
    "import numpy as np"
   ]
  },
  {
   "cell_type": "code",
   "execution_count": 3,
   "id": "eb86aa68-bcd3-4043-bc74-ae2db3fbea45",
   "metadata": {},
   "outputs": [],
   "source": [
    "data = pd.read_csv(\"D:/ML/autos.csv\", encoding='latin-1')"
   ]
  },
  {
   "cell_type": "code",
   "execution_count": 4,
   "id": "389b3734-c708-4352-82f7-4037c667738f",
   "metadata": {},
   "outputs": [
    {
     "name": "stdout",
     "output_type": "stream",
     "text": [
      "RangeIndex(start=0, stop=371528, step=1)\n"
     ]
    }
   ],
   "source": [
    "print(data.index)"
   ]
  },
  {
   "cell_type": "code",
   "execution_count": 5,
   "id": "ed3a4447-039a-4519-89ec-7ad2ebf1ab52",
   "metadata": {},
   "outputs": [
    {
     "name": "stdout",
     "output_type": "stream",
     "text": [
      "Index(['dateCrawled', 'name', 'seller', 'offerType', 'price', 'abtest',\n",
      "       'vehicleType', 'yearOfRegistration', 'gearbox', 'powerPS', 'model',\n",
      "       'kilometer', 'monthOfRegistration', 'fuelType', 'brand',\n",
      "       'notRepairedDamage', 'dateCreated', 'nrOfPictures', 'postalCode',\n",
      "       'lastSeen'],\n",
      "      dtype='object')\n",
      "(371528, 20)\n",
      "<class 'pandas.core.frame.DataFrame'>\n",
      "RangeIndex: 371528 entries, 0 to 371527\n",
      "Data columns (total 20 columns):\n",
      " #   Column               Non-Null Count   Dtype \n",
      "---  ------               --------------   ----- \n",
      " 0   dateCrawled          371528 non-null  object\n",
      " 1   name                 371528 non-null  object\n",
      " 2   seller               371528 non-null  object\n",
      " 3   offerType            371528 non-null  object\n",
      " 4   price                371528 non-null  int64 \n",
      " 5   abtest               371528 non-null  object\n",
      " 6   vehicleType          333659 non-null  object\n",
      " 7   yearOfRegistration   371528 non-null  int64 \n",
      " 8   gearbox              351319 non-null  object\n",
      " 9   powerPS              371528 non-null  int64 \n",
      " 10  model                351044 non-null  object\n",
      " 11  kilometer            371528 non-null  int64 \n",
      " 12  monthOfRegistration  371528 non-null  int64 \n",
      " 13  fuelType             338142 non-null  object\n",
      " 14  brand                371528 non-null  object\n",
      " 15  notRepairedDamage    299468 non-null  object\n",
      " 16  dateCreated          371528 non-null  object\n",
      " 17  nrOfPictures         371528 non-null  int64 \n",
      " 18  postalCode           371528 non-null  int64 \n",
      " 19  lastSeen             371528 non-null  object\n",
      "dtypes: int64(7), object(13)\n",
      "memory usage: 56.7+ MB\n"
     ]
    }
   ],
   "source": [
    "print(data.columns)\n",
    "print(data.shape)\n",
    "data.info()"
   ]
  },
  {
   "cell_type": "code",
   "execution_count": 6,
   "id": "0efe3b61-89f1-47b1-8ebc-6adb89a579ce",
   "metadata": {},
   "outputs": [
    {
     "name": "stdout",
     "output_type": "stream",
     "text": [
      "           dateCrawled                            name  seller offerType  \\\n",
      "0  2016-03-24 11:52:17                      Golf_3_1.6  privat   Angebot   \n",
      "1  2016-03-24 10:58:45            A5_Sportback_2.7_Tdi  privat   Angebot   \n",
      "2  2016-03-14 12:52:21  Jeep_Grand_Cherokee_\"Overland\"  privat   Angebot   \n",
      "3  2016-03-17 16:54:04              GOLF_4_1_4__3TÜRER  privat   Angebot   \n",
      "4  2016-03-31 17:25:20  Skoda_Fabia_1.4_TDI_PD_Classic  privat   Angebot   \n",
      "\n",
      "   price abtest vehicleType  yearOfRegistration    gearbox  powerPS  model  \\\n",
      "0    480   test         NaN                1993    manuell        0   golf   \n",
      "1  18300   test       coupe                2011    manuell      190    NaN   \n",
      "2   9800   test         suv                2004  automatik      163  grand   \n",
      "3   1500   test  kleinwagen                2001    manuell       75   golf   \n",
      "4   3600   test  kleinwagen                2008    manuell       69  fabia   \n",
      "\n",
      "   kilometer  monthOfRegistration fuelType       brand notRepairedDamage  \\\n",
      "0     150000                    0   benzin  volkswagen               NaN   \n",
      "1     125000                    5   diesel        audi                ja   \n",
      "2     125000                    8   diesel        jeep               NaN   \n",
      "3     150000                    6   benzin  volkswagen              nein   \n",
      "4      90000                    7   diesel       skoda              nein   \n",
      "\n",
      "           dateCreated  nrOfPictures  postalCode             lastSeen  \n",
      "0  2016-03-24 00:00:00             0       70435  2016-04-07 03:16:57  \n",
      "1  2016-03-24 00:00:00             0       66954  2016-04-07 01:46:50  \n",
      "2  2016-03-14 00:00:00             0       90480  2016-04-05 12:47:46  \n",
      "3  2016-03-17 00:00:00             0       91074  2016-03-17 17:40:17  \n",
      "4  2016-03-31 00:00:00             0       60437  2016-04-06 10:17:21  \n"
     ]
    }
   ],
   "source": [
    "print(data.head())"
   ]
  },
  {
   "cell_type": "code",
   "execution_count": 7,
   "id": "003ae4da-9aec-4a77-9e2c-b0a9e9b92885",
   "metadata": {},
   "outputs": [
    {
     "name": "stdout",
     "output_type": "stream",
     "text": [
      "                dateCrawled                                          name  \\\n",
      "371523  2016-03-14 17:48:27                    Suche_t4___vito_ab_6_sitze   \n",
      "371524  2016-03-05 19:56:21         Smart_smart_leistungssteigerung_100ps   \n",
      "371525  2016-03-19 18:57:12            Volkswagen_Multivan_T4_TDI_7DC_UY2   \n",
      "371526  2016-03-20 19:41:08                        VW_Golf_Kombi_1_9l_TDI   \n",
      "371527  2016-03-07 19:39:19  BMW_M135i_vollausgestattet_NP_52.720____Euro   \n",
      "\n",
      "        seller offerType  price   abtest vehicleType  yearOfRegistration  \\\n",
      "371523  privat   Angebot   2200     test         NaN                2005   \n",
      "371524  privat   Angebot   1199     test      cabrio                2000   \n",
      "371525  privat   Angebot   9200     test         bus                1996   \n",
      "371526  privat   Angebot   3400     test       kombi                2002   \n",
      "371527  privat   Angebot  28990  control   limousine                2013   \n",
      "\n",
      "          gearbox  powerPS        model  kilometer  monthOfRegistration  \\\n",
      "371523        NaN        0          NaN      20000                    1   \n",
      "371524  automatik      101       fortwo     125000                    3   \n",
      "371525    manuell      102  transporter     150000                    3   \n",
      "371526    manuell      100         golf     150000                    6   \n",
      "371527    manuell      320      m_reihe      50000                    8   \n",
      "\n",
      "       fuelType           brand notRepairedDamage          dateCreated  \\\n",
      "371523      NaN  sonstige_autos               NaN  2016-03-14 00:00:00   \n",
      "371524   benzin           smart              nein  2016-03-05 00:00:00   \n",
      "371525   diesel      volkswagen              nein  2016-03-19 00:00:00   \n",
      "371526   diesel      volkswagen               NaN  2016-03-20 00:00:00   \n",
      "371527   benzin             bmw              nein  2016-03-07 00:00:00   \n",
      "\n",
      "        nrOfPictures  postalCode             lastSeen  \n",
      "371523             0       39576  2016-04-06 00:46:52  \n",
      "371524             0       26135  2016-03-11 18:17:12  \n",
      "371525             0       87439  2016-04-07 07:15:26  \n",
      "371526             0       40764  2016-03-24 12:45:21  \n",
      "371527             0       73326  2016-03-22 03:17:10  \n"
     ]
    }
   ],
   "source": [
    "print(data.tail())"
   ]
  },
  {
   "cell_type": "code",
   "execution_count": 8,
   "id": "9c2eeb1f-3a92-4c41-a9ea-a55cd888765a",
   "metadata": {},
   "outputs": [
    {
     "data": {
      "text/plain": [
       "dateCrawled            280500\n",
       "name                   233531\n",
       "seller                      2\n",
       "offerType                   2\n",
       "price                    5597\n",
       "abtest                      2\n",
       "vehicleType                 8\n",
       "yearOfRegistration        155\n",
       "gearbox                     2\n",
       "powerPS                   794\n",
       "model                     251\n",
       "kilometer                  13\n",
       "monthOfRegistration        13\n",
       "fuelType                    7\n",
       "brand                      40\n",
       "notRepairedDamage           2\n",
       "dateCreated               114\n",
       "nrOfPictures                1\n",
       "postalCode               8150\n",
       "lastSeen               182806\n",
       "dtype: int64"
      ]
     },
     "execution_count": 8,
     "metadata": {},
     "output_type": "execute_result"
    }
   ],
   "source": [
    "# to know unique values \n",
    "data.nunique()"
   ]
  },
  {
   "cell_type": "code",
   "execution_count": 9,
   "id": "d41f41fb-41c8-4210-9911-35ed0022b85e",
   "metadata": {},
   "outputs": [
    {
     "data": {
      "text/plain": [
       "dateCrawled                0\n",
       "name                       0\n",
       "seller                     0\n",
       "offerType                  0\n",
       "price                      0\n",
       "abtest                     0\n",
       "vehicleType            37869\n",
       "yearOfRegistration         0\n",
       "gearbox                20209\n",
       "powerPS                    0\n",
       "model                  20484\n",
       "kilometer                  0\n",
       "monthOfRegistration        0\n",
       "fuelType               33386\n",
       "brand                      0\n",
       "notRepairedDamage      72060\n",
       "dateCreated                0\n",
       "nrOfPictures               0\n",
       "postalCode                 0\n",
       "lastSeen                   0\n",
       "dtype: int64"
      ]
     },
     "execution_count": 9,
     "metadata": {},
     "output_type": "execute_result"
    }
   ],
   "source": [
    "data.isna().sum()"
   ]
  },
  {
   "cell_type": "code",
   "execution_count": 10,
   "id": "4ca1ff39-434f-44eb-8e18-30ee076da6f3",
   "metadata": {},
   "outputs": [
    {
     "data": {
      "text/plain": [
       "dateCrawled                0\n",
       "name                       0\n",
       "seller                     0\n",
       "offerType                  0\n",
       "price                      0\n",
       "abtest                     0\n",
       "vehicleType            37869\n",
       "yearOfRegistration         0\n",
       "gearbox                20209\n",
       "powerPS                    0\n",
       "model                  20484\n",
       "kilometer                  0\n",
       "monthOfRegistration        0\n",
       "fuelType               33386\n",
       "brand                      0\n",
       "notRepairedDamage      72060\n",
       "dateCreated                0\n",
       "nrOfPictures               0\n",
       "postalCode                 0\n",
       "lastSeen                   0\n",
       "dtype: int64"
      ]
     },
     "execution_count": 10,
     "metadata": {},
     "output_type": "execute_result"
    }
   ],
   "source": [
    "data.isnull().sum()"
   ]
  },
  {
   "cell_type": "code",
   "execution_count": 11,
   "id": "da21a7ef-58f6-4aae-ae55-6de9d8246853",
   "metadata": {
    "scrolled": true
   },
   "outputs": [
    {
     "name": "stdout",
     "output_type": "stream",
     "text": [
      "              price  yearOfRegistration        powerPS      kilometer  \\\n",
      "count  3.715280e+05       371528.000000  371528.000000  371528.000000   \n",
      "mean   1.729514e+04         2004.577997     115.549477  125618.688228   \n",
      "std    3.587954e+06           92.866598     192.139578   40112.337051   \n",
      "min    0.000000e+00         1000.000000       0.000000    5000.000000   \n",
      "25%    1.150000e+03         1999.000000      70.000000  125000.000000   \n",
      "50%    2.950000e+03         2003.000000     105.000000  150000.000000   \n",
      "75%    7.200000e+03         2008.000000     150.000000  150000.000000   \n",
      "max    2.147484e+09         9999.000000   20000.000000  150000.000000   \n",
      "\n",
      "       monthOfRegistration  nrOfPictures    postalCode  \n",
      "count        371528.000000      371528.0  371528.00000  \n",
      "mean              5.734445           0.0   50820.66764  \n",
      "std               3.712412           0.0   25799.08247  \n",
      "min               0.000000           0.0    1067.00000  \n",
      "25%               3.000000           0.0   30459.00000  \n",
      "50%               6.000000           0.0   49610.00000  \n",
      "75%               9.000000           0.0   71546.00000  \n",
      "max              12.000000           0.0   99998.00000  \n"
     ]
    }
   ],
   "source": [
    "print(data.describe())"
   ]
  },
  {
   "cell_type": "code",
   "execution_count": null,
   "id": "8c01e292-91a8-49e8-8530-1513200ec464",
   "metadata": {},
   "outputs": [],
   "source": [
    "print(data.mean())\n",
    "print(data.median())\n",
    "print(data.mode())\n",
    "print(data['price'].mean())\n",
    "print(data['price'].median()) \n",
    "print(data['price'].mode())"
   ]
  },
  {
   "cell_type": "code",
   "execution_count": null,
   "id": "b9474739-a58a-4bf7-9ac9-8bed058ef996",
   "metadata": {},
   "outputs": [],
   "source": [
    "#Measure of Variability\n",
    "print(data['price'].var())\n",
    "print(data['price'].std())\n",
    "\n",
    "# mean (average) absolute deviation\n",
    "print(data['price'].mad())\n",
    "\n",
    "#range\n",
    "range1 = max(data['price'])-min(temp['price'])\n",
    "print(range1)\n",
    "\n",
    "#IQR\n",
    "Q1 = np.percentile(data['price'], 25)\n",
    "Q3 = np.percentile(data['price'], 75)\n",
    "print(Q1, Q3)\n",
    "IQR = Q3 - Q1\n",
    "print(IQR)"
   ]
  },
  {
   "cell_type": "code",
   "execution_count": null,
   "id": "da96272c-b03c-45b4-a7ea-be2081d2b2eb",
   "metadata": {},
   "outputs": [],
   "source": []
  },
  {
   "cell_type": "code",
   "execution_count": null,
   "id": "9b18fdb9-0217-4ce4-a2df-6dab8f32e118",
   "metadata": {},
   "outputs": [],
   "source": []
  }
 ],
 "metadata": {
  "kernelspec": {
   "display_name": "Python 3 (ipykernel)",
   "language": "python",
   "name": "python3"
  },
  "language_info": {
   "codemirror_mode": {
    "name": "ipython",
    "version": 3
   },
   "file_extension": ".py",
   "mimetype": "text/x-python",
   "name": "python",
   "nbconvert_exporter": "python",
   "pygments_lexer": "ipython3",
   "version": "3.11.3"
  }
 },
 "nbformat": 4,
 "nbformat_minor": 5
}
