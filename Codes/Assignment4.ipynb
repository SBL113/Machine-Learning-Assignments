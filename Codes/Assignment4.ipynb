{
 "cells": [
  {
   "cell_type": "code",
   "execution_count": 1,
   "id": "10b899dc-eb41-49c0-b141-3a1a57ba2a74",
   "metadata": {},
   "outputs": [],
   "source": [
    "\n",
    "import pandas as pd\n",
    "import numpy as np"
   ]
  },
  {
   "cell_type": "code",
   "execution_count": 2,
   "id": "e25d7905-9244-45ef-8c8c-1a01e499f179",
   "metadata": {},
   "outputs": [],
   "source": [
    "import matplotlib.pyplot as plt\n",
    "import seaborn as sns\n",
    "import matplotlib.pyplot"
   ]
  },
  {
   "cell_type": "code",
   "execution_count": 3,
   "id": "5ff30eef-cfac-4a79-97da-f1d0a0469d4b",
   "metadata": {},
   "outputs": [],
   "source": [
    "data = pd.read_csv(\"D:/ML/archive/milknew.csv\")"
   ]
  },
  {
   "cell_type": "code",
   "execution_count": 12,
   "id": "da7f2b6f-e1bd-4d69-9615-e38545b3bf4b",
   "metadata": {},
   "outputs": [
    {
     "name": "stdout",
     "output_type": "stream",
     "text": [
      "(1059, 8)\n"
     ]
    }
   ],
   "source": [
    "print(data.shape)"
   ]
  },
  {
   "cell_type": "code",
   "execution_count": 15,
   "id": "65cd1040-d569-49a0-a9f2-1d4d311df74a",
   "metadata": {},
   "outputs": [
    {
     "data": {
      "text/plain": [
       "pH            0\n",
       "Temprature    0\n",
       "Taste         0\n",
       "Odor          0\n",
       "Fat           0\n",
       "Turbidity     0\n",
       "Colour        0\n",
       "Grade         0\n",
       "dtype: int64"
      ]
     },
     "execution_count": 15,
     "metadata": {},
     "output_type": "execute_result"
    }
   ],
   "source": [
    "data.isnull().sum()"
   ]
  },
  {
   "cell_type": "code",
   "execution_count": 16,
   "id": "e0c80457-76c6-4b80-9e54-35f093915818",
   "metadata": {},
   "outputs": [
    {
     "data": {
      "text/plain": [
       "pH            0\n",
       "Temprature    0\n",
       "Taste         0\n",
       "Odor          0\n",
       "Fat           0\n",
       "Turbidity     0\n",
       "Colour        0\n",
       "Grade         0\n",
       "dtype: int64"
      ]
     },
     "execution_count": 16,
     "metadata": {},
     "output_type": "execute_result"
    }
   ],
   "source": [
    "data.isna().sum()"
   ]
  },
  {
   "cell_type": "code",
   "execution_count": 13,
   "id": "81424d9a-da2f-451c-85dc-b162374dafdb",
   "metadata": {},
   "outputs": [
    {
     "name": "stdout",
     "output_type": "stream",
     "text": [
      "    pH  Temprature  Taste  Odor  Fat   Turbidity  Colour   Grade\n",
      "0  6.6          35      1     0     1          0     254    high\n",
      "1  6.6          36      0     1     0          1     253    high\n",
      "2  8.5          70      1     1     1          1     246     low\n",
      "3  9.5          34      1     1     0          1     255     low\n",
      "4  6.6          37      0     0     0          0     255  medium\n"
     ]
    }
   ],
   "source": [
    "print(data.head())"
   ]
  },
  {
   "cell_type": "code",
   "execution_count": 17,
   "id": "8a846d63-c8ad-4210-a33d-6e976985cc6d",
   "metadata": {},
   "outputs": [
    {
     "data": {
      "text/plain": [
       "pH            16\n",
       "Temprature    17\n",
       "Taste          2\n",
       "Odor           2\n",
       "Fat            2\n",
       "Turbidity      2\n",
       "Colour         9\n",
       "Grade          3\n",
       "dtype: int64"
      ]
     },
     "execution_count": 17,
     "metadata": {},
     "output_type": "execute_result"
    }
   ],
   "source": [
    "data.nunique()"
   ]
  },
  {
   "cell_type": "code",
   "execution_count": 14,
   "id": "1c4be551-fbca-4e05-9f0f-b9289532806a",
   "metadata": {},
   "outputs": [
    {
     "name": "stdout",
     "output_type": "stream",
     "text": [
      "Index(['pH', 'Temprature', 'Taste', 'Odor', 'Fat ', 'Turbidity', 'Colour',\n",
      "       'Grade'],\n",
      "      dtype='object')\n"
     ]
    }
   ],
   "source": [
    "print(data.columns)"
   ]
  },
  {
   "cell_type": "code",
   "execution_count": 5,
   "id": "74952c05-f0ab-420d-8fd6-bb3bcc5d2481",
   "metadata": {},
   "outputs": [
    {
     "name": "stdout",
     "output_type": "stream",
     "text": [
      "<class 'pandas.core.frame.DataFrame'>\n",
      "RangeIndex: 1059 entries, 0 to 1058\n",
      "Data columns (total 8 columns):\n",
      " #   Column      Non-Null Count  Dtype  \n",
      "---  ------      --------------  -----  \n",
      " 0   pH          1059 non-null   float64\n",
      " 1   Temprature  1059 non-null   int64  \n",
      " 2   Taste       1059 non-null   int64  \n",
      " 3   Odor        1059 non-null   int64  \n",
      " 4   Fat         1059 non-null   int64  \n",
      " 5   Turbidity   1059 non-null   int64  \n",
      " 6   Colour      1059 non-null   int64  \n",
      " 7   Grade       1059 non-null   object \n",
      "dtypes: float64(1), int64(6), object(1)\n",
      "memory usage: 66.3+ KB\n",
      "None\n"
     ]
    }
   ],
   "source": [
    "print(data.info())"
   ]
  },
  {
   "cell_type": "code",
   "execution_count": 6,
   "id": "05f6d870-03e2-497b-8725-b10375bd79f2",
   "metadata": {},
   "outputs": [
    {
     "name": "stdout",
     "output_type": "stream",
     "text": [
      "                pH   Temprature        Taste         Odor         Fat   \\\n",
      "count  1059.000000  1059.000000  1059.000000  1059.000000  1059.000000   \n",
      "mean      6.630123    44.226629     0.546742     0.432483     0.671388   \n",
      "std       1.399679    10.098364     0.498046     0.495655     0.469930   \n",
      "min       3.000000    34.000000     0.000000     0.000000     0.000000   \n",
      "25%       6.500000    38.000000     0.000000     0.000000     0.000000   \n",
      "50%       6.700000    41.000000     1.000000     0.000000     1.000000   \n",
      "75%       6.800000    45.000000     1.000000     1.000000     1.000000   \n",
      "max       9.500000    90.000000     1.000000     1.000000     1.000000   \n",
      "\n",
      "         Turbidity       Colour  \n",
      "count  1059.000000  1059.000000  \n",
      "mean      0.491029   251.840415  \n",
      "std       0.500156     4.307424  \n",
      "min       0.000000   240.000000  \n",
      "25%       0.000000   250.000000  \n",
      "50%       0.000000   255.000000  \n",
      "75%       1.000000   255.000000  \n",
      "max       1.000000   255.000000  \n"
     ]
    }
   ],
   "source": [
    "print(data.describe())"
   ]
  },
  {
   "cell_type": "code",
   "execution_count": 7,
   "id": "a8464019-83e7-4675-995e-6a6b330e001f",
   "metadata": {},
   "outputs": [
    {
     "name": "stdout",
     "output_type": "stream",
     "text": [
      "0      high\n",
      "1      high\n",
      "2       low\n",
      "3       low\n",
      "4    medium\n",
      "Name: Grade, dtype: object\n"
     ]
    }
   ],
   "source": [
    "features_cols = ['pH', 'Temprature', 'Taste', 'Odor', 'Fat ', 'Turbidity', 'Colour']\n",
    "X = data[features_cols]\n",
    "Y = data['Grade']\n",
    "print(data['Grade'].head())"
   ]
  },
  {
   "cell_type": "code",
   "execution_count": 8,
   "id": "f2e34236-3ad4-4a3c-8df4-95fbc6a16607",
   "metadata": {},
   "outputs": [],
   "source": [
    "from sklearn.naive_bayes import GaussianNB\n",
    "from sklearn.model_selection import cross_val_score\n",
    "from sklearn.model_selection import train_test_split\n",
    "from sklearn import metrics"
   ]
  },
  {
   "cell_type": "code",
   "execution_count": 11,
   "id": "26752478-e5f6-42c8-af96-beb578e40085",
   "metadata": {},
   "outputs": [
    {
     "name": "stdout",
     "output_type": "stream",
     "text": [
      "Accuracy: 0.9460188933873145\n",
      "Accuracy: 0.940251572327044\n",
      "0.918954954954955\n",
      "Accuracy: 0.940251572327044\n"
     ]
    }
   ],
   "source": [
    "x_train, x_test, y_train, y_test = train_test_split(X, Y, test_size= 0.3)\n",
    "\n",
    "clf = GaussianNB()\n",
    "clf = clf.fit(x_train, y_train)\n",
    "y_pred = clf.predict(x_test)\n",
    "Y_train_pred = clf.predict(x_train)\n",
    "print(\"Accuracy:\",metrics.accuracy_score(y_train, Y_train_pred))#training accuracy\n",
    "print(\"Accuracy:\",metrics.accuracy_score(y_test, y_pred))#testing accuracy\n",
    "\n",
    "clf1 = GaussianNB()\n",
    "clf1.fit(x_train, y_train)\n",
    "print(cross_val_score(clf1, x_train, y_train, cv=10, scoring='accuracy').mean())\n",
    "y_pred=clf1.predict(x_test)\n",
    "print(\"Accuracy:\",metrics.accuracy_score(y_test, y_pred))"
   ]
  },
  {
   "cell_type": "code",
   "execution_count": null,
   "id": "b94d014f-be92-469c-9334-1fb0af9690f2",
   "metadata": {},
   "outputs": [],
   "source": []
  }
 ],
 "metadata": {
  "kernelspec": {
   "display_name": "Python 3 (ipykernel)",
   "language": "python",
   "name": "python3"
  },
  "language_info": {
   "codemirror_mode": {
    "name": "ipython",
    "version": 3
   },
   "file_extension": ".py",
   "mimetype": "text/x-python",
   "name": "python",
   "nbconvert_exporter": "python",
   "pygments_lexer": "ipython3",
   "version": "3.11.3"
  }
 },
 "nbformat": 4,
 "nbformat_minor": 5
}
