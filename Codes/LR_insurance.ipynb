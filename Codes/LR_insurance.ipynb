{
 "cells": [
  {
   "cell_type": "code",
   "execution_count": 1,
   "id": "79b52900-756d-4ed1-b1bc-76915a60c7ae",
   "metadata": {},
   "outputs": [],
   "source": [
    "import pandas as pd\n",
    "MyData=pd.read_csv(\"C:/Users/Admin/Desktop/insurance.csv\")"
   ]
  },
  {
   "cell_type": "code",
   "execution_count": 2,
   "id": "f9fbbaf0-30b6-4b6a-8ad0-f1132cb8eb89",
   "metadata": {},
   "outputs": [
    {
     "data": {
      "text/plain": [
       "(1338, 7)"
      ]
     },
     "execution_count": 2,
     "metadata": {},
     "output_type": "execute_result"
    }
   ],
   "source": [
    "MyData.shape"
   ]
  },
  {
   "cell_type": "code",
   "execution_count": 3,
   "id": "ef6b1120-078e-4dcc-bc6b-f87feb44a2df",
   "metadata": {},
   "outputs": [
    {
     "data": {
      "text/html": [
       "<div>\n",
       "<style scoped>\n",
       "    .dataframe tbody tr th:only-of-type {\n",
       "        vertical-align: middle;\n",
       "    }\n",
       "\n",
       "    .dataframe tbody tr th {\n",
       "        vertical-align: top;\n",
       "    }\n",
       "\n",
       "    .dataframe thead th {\n",
       "        text-align: right;\n",
       "    }\n",
       "</style>\n",
       "<table border=\"1\" class=\"dataframe\">\n",
       "  <thead>\n",
       "    <tr style=\"text-align: right;\">\n",
       "      <th></th>\n",
       "      <th>age</th>\n",
       "      <th>sex</th>\n",
       "      <th>bmi</th>\n",
       "      <th>children</th>\n",
       "      <th>smoker</th>\n",
       "      <th>region</th>\n",
       "      <th>charges</th>\n",
       "    </tr>\n",
       "  </thead>\n",
       "  <tbody>\n",
       "    <tr>\n",
       "      <th>0</th>\n",
       "      <td>19</td>\n",
       "      <td>female</td>\n",
       "      <td>27.900</td>\n",
       "      <td>0</td>\n",
       "      <td>yes</td>\n",
       "      <td>southwest</td>\n",
       "      <td>16884.92400</td>\n",
       "    </tr>\n",
       "    <tr>\n",
       "      <th>1</th>\n",
       "      <td>18</td>\n",
       "      <td>male</td>\n",
       "      <td>33.770</td>\n",
       "      <td>1</td>\n",
       "      <td>no</td>\n",
       "      <td>southeast</td>\n",
       "      <td>1725.55230</td>\n",
       "    </tr>\n",
       "    <tr>\n",
       "      <th>2</th>\n",
       "      <td>28</td>\n",
       "      <td>male</td>\n",
       "      <td>33.000</td>\n",
       "      <td>3</td>\n",
       "      <td>no</td>\n",
       "      <td>southeast</td>\n",
       "      <td>4449.46200</td>\n",
       "    </tr>\n",
       "    <tr>\n",
       "      <th>3</th>\n",
       "      <td>33</td>\n",
       "      <td>male</td>\n",
       "      <td>22.705</td>\n",
       "      <td>0</td>\n",
       "      <td>no</td>\n",
       "      <td>northwest</td>\n",
       "      <td>21984.47061</td>\n",
       "    </tr>\n",
       "    <tr>\n",
       "      <th>4</th>\n",
       "      <td>32</td>\n",
       "      <td>male</td>\n",
       "      <td>28.880</td>\n",
       "      <td>0</td>\n",
       "      <td>no</td>\n",
       "      <td>northwest</td>\n",
       "      <td>3866.85520</td>\n",
       "    </tr>\n",
       "  </tbody>\n",
       "</table>\n",
       "</div>"
      ],
      "text/plain": [
       "   age     sex     bmi  children smoker     region      charges\n",
       "0   19  female  27.900         0    yes  southwest  16884.92400\n",
       "1   18    male  33.770         1     no  southeast   1725.55230\n",
       "2   28    male  33.000         3     no  southeast   4449.46200\n",
       "3   33    male  22.705         0     no  northwest  21984.47061\n",
       "4   32    male  28.880         0     no  northwest   3866.85520"
      ]
     },
     "execution_count": 3,
     "metadata": {},
     "output_type": "execute_result"
    }
   ],
   "source": [
    "MyData.head()"
   ]
  },
  {
   "cell_type": "code",
   "execution_count": 4,
   "id": "3f05166d-9620-4169-8c51-44bb5ea38dd1",
   "metadata": {},
   "outputs": [
    {
     "name": "stdout",
     "output_type": "stream",
     "text": [
      "age           int64\n",
      "sex          object\n",
      "bmi         float64\n",
      "children      int64\n",
      "smoker       object\n",
      "region       object\n",
      "charges     float64\n",
      "dtype: object\n"
     ]
    }
   ],
   "source": [
    "print(MyData.dtypes)"
   ]
  },
  {
   "cell_type": "code",
   "execution_count": 5,
   "id": "8de79100-d2ff-4308-8019-520a3c07254b",
   "metadata": {},
   "outputs": [
    {
     "name": "stdout",
     "output_type": "stream",
     "text": [
      "   age  sex     bmi  children  smoker  region      charges\n",
      "0   19    0  27.900         0       1       3  16884.92400\n",
      "1   18    1  33.770         1       0       2   1725.55230\n",
      "2   28    1  33.000         3       0       2   4449.46200\n",
      "3   33    1  22.705         0       0       1  21984.47061\n",
      "4   32    1  28.880         0       0       1   3866.85520\n"
     ]
    }
   ],
   "source": [
    "from sklearn.preprocessing import LabelEncoder\n",
    "# Create LabelEncoder objects\n",
    "sex_encoder = LabelEncoder()\n",
    "smoker_encoder = LabelEncoder()\n",
    "region_encoder = LabelEncoder()\n",
    "# Fit and transform the 'sex' column\n",
    "sex_encoded = sex_encoder.fit_transform(MyData['sex'])\n",
    "# Replace the original 'sex' column with the encoded values\n",
    "MyData['sex'] = sex_encoded\n",
    "# Fit and transform the 'smoker' column\n",
    "smoker_encoded = smoker_encoder.fit_transform(MyData['smoker'])\n",
    "# Replace the original 'smoker' column with the encoded values\n",
    "MyData['smoker'] = smoker_encoded\n",
    "# Fit and transform the 'region' column\n",
    "region_encoded = region_encoder.fit_transform(MyData['region'])\n",
    "# Replace the original 'region' column with the encoded values\n",
    "MyData['region'] = region_encoded\n",
    "print(MyData.head())"
   ]
  },
  {
   "cell_type": "code",
   "execution_count": 6,
   "id": "c62f628e-543b-4fd6-a6ea-3cddb03b342a",
   "metadata": {},
   "outputs": [
    {
     "name": "stdout",
     "output_type": "stream",
     "text": [
      "age           int64\n",
      "sex           int32\n",
      "bmi         float64\n",
      "children      int64\n",
      "smoker        int32\n",
      "region        int32\n",
      "charges     float64\n",
      "dtype: object\n"
     ]
    }
   ],
   "source": [
    "print(MyData.dtypes)"
   ]
  },
  {
   "cell_type": "code",
   "execution_count": 7,
   "id": "fe8ce68d-513b-45b7-ad2b-aa03d61df7f3",
   "metadata": {},
   "outputs": [
    {
     "data": {
      "text/plain": [
       "age         0\n",
       "sex         0\n",
       "bmi         0\n",
       "children    0\n",
       "smoker      0\n",
       "region      0\n",
       "charges     0\n",
       "dtype: int64"
      ]
     },
     "execution_count": 7,
     "metadata": {},
     "output_type": "execute_result"
    }
   ],
   "source": [
    "MyData.isnull().sum() "
   ]
  },
  {
   "cell_type": "code",
   "execution_count": 8,
   "id": "d10f1101-3bfb-4a5e-a408-e28c59538af1",
   "metadata": {},
   "outputs": [
    {
     "name": "stdout",
     "output_type": "stream",
     "text": [
      "\n",
      "Number of Duplicate Rows: 1\n"
     ]
    }
   ],
   "source": [
    "duplicate_rows_count = MyData.duplicated().sum()\n",
    "print(\"\\nNumber of Duplicate Rows:\", duplicate_rows_count)"
   ]
  },
  {
   "cell_type": "code",
   "execution_count": 9,
   "id": "595734ca-472e-45f4-a498-072c76792fab",
   "metadata": {},
   "outputs": [
    {
     "data": {
      "text/plain": [
       "age         0\n",
       "sex         0\n",
       "bmi         0\n",
       "children    0\n",
       "smoker      0\n",
       "region      0\n",
       "charges     0\n",
       "dtype: int64"
      ]
     },
     "execution_count": 9,
     "metadata": {},
     "output_type": "execute_result"
    }
   ],
   "source": [
    "MyData.isna().sum()"
   ]
  },
  {
   "cell_type": "code",
   "execution_count": 10,
   "id": "d35c94ba-64e8-4d6a-b30e-0b60c0245e8b",
   "metadata": {},
   "outputs": [
    {
     "name": "stdout",
     "output_type": "stream",
     "text": [
      "       age  sex     bmi  children  smoker  region      charges\n",
      "0       19  0.0  27.900       0.0     1.0     3.0  16884.92400\n",
      "1       18  1.0  33.770       1.0     0.0     2.0   1725.55230\n",
      "2       28  1.0  33.000       3.0     0.0     2.0   4449.46200\n",
      "3       33  1.0  22.705       0.0     0.0     1.0  21984.47061\n",
      "4       32  1.0  28.880       0.0     0.0     1.0   3866.85520\n",
      "...    ...  ...     ...       ...     ...     ...          ...\n",
      "1341    33  1.0  22.705       0.0     0.0     1.0  21984.47061\n",
      "1342    32  1.0  28.880       0.0     0.0     1.0   3866.85520\n",
      "1343  None  NaN     NaN       NaN     NaN     NaN          NaN\n",
      "1344  None  NaN     NaN       NaN     NaN     NaN          NaN\n",
      "1345  None  NaN     NaN       NaN     NaN     NaN          NaN\n",
      "\n",
      "[1346 rows x 7 columns]\n"
     ]
    }
   ],
   "source": [
    "import numpy as np\n",
    "MyData = pd.concat([MyData, MyData.iloc[0:5]], ignore_index=True)\n",
    "# New rows to be added\n",
    "new_rows = {\n",
    "    'age': [None, None, None],\n",
    "    'sex': [np.nan, np.nan, np.nan],\n",
    "    'bmi': [np.nan, np.nan, np.nan],\n",
    "    'children': [np.nan, np.nan, np.nan],\n",
    "    'smoker': [np.nan, np.nan, np.nan],\n",
    "    'region': [np.nan, np.nan, np.nan],\n",
    "    'charges' : [np.nan, np.nan, np.nan]\n",
    "}\n",
    "# Convert to DataFrame\n",
    "new_df = pd.DataFrame(new_rows)\n",
    "# Append new rows to the DataFrame\n",
    "MyData = pd.concat([MyData, new_df], ignore_index=True)\n",
    "# Display the DataFrame\n",
    "print(MyData)"
   ]
  },
  {
   "cell_type": "code",
   "execution_count": 11,
   "id": "47a541e2-a86b-4d2e-a6cc-2286fdd10cf1",
   "metadata": {},
   "outputs": [
    {
     "data": {
      "text/plain": [
       "age         3\n",
       "sex         3\n",
       "bmi         3\n",
       "children    3\n",
       "smoker      3\n",
       "region      3\n",
       "charges     3\n",
       "dtype: int64"
      ]
     },
     "execution_count": 11,
     "metadata": {},
     "output_type": "execute_result"
    }
   ],
   "source": [
    "MyData.isnull().sum()"
   ]
  },
  {
   "cell_type": "code",
   "execution_count": 12,
   "id": "25778909-7ed3-4308-bf87-52b5def34799",
   "metadata": {},
   "outputs": [
    {
     "name": "stdout",
     "output_type": "stream",
     "text": [
      "\n",
      "Number of Duplicate Rows: 8\n"
     ]
    }
   ],
   "source": [
    "# Check for duplicate rows\n",
    "duplicate_rows_count = MyData.duplicated().sum()\n",
    "print(\"\\nNumber of Duplicate Rows:\", duplicate_rows_count)"
   ]
  },
  {
   "cell_type": "code",
   "execution_count": 13,
   "id": "4f45b8ea-b0ff-4b89-8d81-22dcde596fd2",
   "metadata": {},
   "outputs": [
    {
     "data": {
      "text/plain": [
       "age         0\n",
       "sex         0\n",
       "bmi         0\n",
       "children    0\n",
       "smoker      0\n",
       "region      0\n",
       "charges     0\n",
       "dtype: int64"
      ]
     },
     "execution_count": 13,
     "metadata": {},
     "output_type": "execute_result"
    }
   ],
   "source": [
    "MyData.fillna(MyData.mean(), inplace=True)\n",
    "MyData.isna().sum()"
   ]
  },
  {
   "cell_type": "code",
   "execution_count": 14,
   "id": "2147d7fd-73e4-4154-9100-6fb533132c60",
   "metadata": {},
   "outputs": [
    {
     "name": "stdout",
     "output_type": "stream",
     "text": [
      "\n",
      "Number of Duplicate Rows: 0\n"
     ]
    }
   ],
   "source": [
    "# Remove duplicate rows\n",
    "MyData.drop_duplicates(inplace=True)\n",
    "# Check for duplicate rows\n",
    "duplicate_rows_count = MyData.duplicated().sum()\n",
    "print(\"\\nNumber of Duplicate Rows:\", duplicate_rows_count)"
   ]
  },
  {
   "cell_type": "code",
   "execution_count": 15,
   "id": "3a25c174-a5db-41f0-bc7b-779ace641b34",
   "metadata": {},
   "outputs": [
    {
     "data": {
      "text/plain": [
       "age         0\n",
       "sex         0\n",
       "bmi         0\n",
       "children    0\n",
       "smoker      0\n",
       "region      0\n",
       "charges     0\n",
       "dtype: int64"
      ]
     },
     "execution_count": 15,
     "metadata": {},
     "output_type": "execute_result"
    }
   ],
   "source": [
    "MyData.isna().sum()"
   ]
  },
  {
   "cell_type": "code",
   "execution_count": 16,
   "id": "3bdfccf9-0825-43b6-8f6f-86ca02b12365",
   "metadata": {},
   "outputs": [
    {
     "data": {
      "text/html": [
       "<div>\n",
       "<style scoped>\n",
       "    .dataframe tbody tr th:only-of-type {\n",
       "        vertical-align: middle;\n",
       "    }\n",
       "\n",
       "    .dataframe tbody tr th {\n",
       "        vertical-align: top;\n",
       "    }\n",
       "\n",
       "    .dataframe thead th {\n",
       "        text-align: right;\n",
       "    }\n",
       "</style>\n",
       "<table border=\"1\" class=\"dataframe\">\n",
       "  <thead>\n",
       "    <tr style=\"text-align: right;\">\n",
       "      <th></th>\n",
       "      <th>age</th>\n",
       "      <th>sex</th>\n",
       "      <th>bmi</th>\n",
       "      <th>children</th>\n",
       "      <th>smoker</th>\n",
       "      <th>region</th>\n",
       "      <th>charges</th>\n",
       "    </tr>\n",
       "  </thead>\n",
       "  <tbody>\n",
       "    <tr>\n",
       "      <th>count</th>\n",
       "      <td>1338.000000</td>\n",
       "      <td>1338.000000</td>\n",
       "      <td>1338.000000</td>\n",
       "      <td>1338.000000</td>\n",
       "      <td>1338.000000</td>\n",
       "      <td>1338.000000</td>\n",
       "      <td>1338.000000</td>\n",
       "    </tr>\n",
       "    <tr>\n",
       "      <th>mean</th>\n",
       "      <td>39.222091</td>\n",
       "      <td>0.504863</td>\n",
       "      <td>30.663448</td>\n",
       "      <td>1.095735</td>\n",
       "      <td>0.204936</td>\n",
       "      <td>1.516081</td>\n",
       "      <td>13279.105279</td>\n",
       "    </tr>\n",
       "    <tr>\n",
       "      <th>std</th>\n",
       "      <td>14.039080</td>\n",
       "      <td>0.499976</td>\n",
       "      <td>6.098187</td>\n",
       "      <td>1.205120</td>\n",
       "      <td>0.403655</td>\n",
       "      <td>1.104795</td>\n",
       "      <td>12105.829893</td>\n",
       "    </tr>\n",
       "    <tr>\n",
       "      <th>min</th>\n",
       "      <td>18.000000</td>\n",
       "      <td>0.000000</td>\n",
       "      <td>15.960000</td>\n",
       "      <td>0.000000</td>\n",
       "      <td>0.000000</td>\n",
       "      <td>0.000000</td>\n",
       "      <td>1121.873900</td>\n",
       "    </tr>\n",
       "    <tr>\n",
       "      <th>25%</th>\n",
       "      <td>27.000000</td>\n",
       "      <td>0.000000</td>\n",
       "      <td>26.296250</td>\n",
       "      <td>0.000000</td>\n",
       "      <td>0.000000</td>\n",
       "      <td>1.000000</td>\n",
       "      <td>4746.521225</td>\n",
       "    </tr>\n",
       "    <tr>\n",
       "      <th>50%</th>\n",
       "      <td>39.000000</td>\n",
       "      <td>1.000000</td>\n",
       "      <td>30.400000</td>\n",
       "      <td>1.000000</td>\n",
       "      <td>0.000000</td>\n",
       "      <td>2.000000</td>\n",
       "      <td>9388.753650</td>\n",
       "    </tr>\n",
       "    <tr>\n",
       "      <th>75%</th>\n",
       "      <td>51.000000</td>\n",
       "      <td>1.000000</td>\n",
       "      <td>34.693750</td>\n",
       "      <td>2.000000</td>\n",
       "      <td>0.000000</td>\n",
       "      <td>2.000000</td>\n",
       "      <td>16639.912515</td>\n",
       "    </tr>\n",
       "    <tr>\n",
       "      <th>max</th>\n",
       "      <td>64.000000</td>\n",
       "      <td>1.000000</td>\n",
       "      <td>53.130000</td>\n",
       "      <td>5.000000</td>\n",
       "      <td>1.000000</td>\n",
       "      <td>3.000000</td>\n",
       "      <td>63770.428010</td>\n",
       "    </tr>\n",
       "  </tbody>\n",
       "</table>\n",
       "</div>"
      ],
      "text/plain": [
       "               age          sex          bmi     children       smoker  \\\n",
       "count  1338.000000  1338.000000  1338.000000  1338.000000  1338.000000   \n",
       "mean     39.222091     0.504863    30.663448     1.095735     0.204936   \n",
       "std      14.039080     0.499976     6.098187     1.205120     0.403655   \n",
       "min      18.000000     0.000000    15.960000     0.000000     0.000000   \n",
       "25%      27.000000     0.000000    26.296250     0.000000     0.000000   \n",
       "50%      39.000000     1.000000    30.400000     1.000000     0.000000   \n",
       "75%      51.000000     1.000000    34.693750     2.000000     0.000000   \n",
       "max      64.000000     1.000000    53.130000     5.000000     1.000000   \n",
       "\n",
       "            region       charges  \n",
       "count  1338.000000   1338.000000  \n",
       "mean      1.516081  13279.105279  \n",
       "std       1.104795  12105.829893  \n",
       "min       0.000000   1121.873900  \n",
       "25%       1.000000   4746.521225  \n",
       "50%       2.000000   9388.753650  \n",
       "75%       2.000000  16639.912515  \n",
       "max       3.000000  63770.428010  "
      ]
     },
     "execution_count": 16,
     "metadata": {},
     "output_type": "execute_result"
    }
   ],
   "source": [
    "MyData.describe()"
   ]
  },
  {
   "cell_type": "code",
   "execution_count": 17,
   "id": "74da6c59-de96-4ffa-80ee-f0779e35648f",
   "metadata": {},
   "outputs": [
    {
     "data": {
      "image/png": "[encoded data removed]",
      "text/plain": [
       "<Figure size 640x480 with 1 Axes>"
      ]
     },
     "metadata": {},
     "output_type": "display_data"
    }
   ],
   "source": [
    "import matplotlib.pyplot as plt\n",
    "%matplotlib inline\n",
    "plt.boxplot(MyData['bmi'])\n",
    "plt.show()"
   ]
  },
  {
   "cell_type": "code",
   "execution_count": 18,
   "id": "424ba714-3f1f-460e-8160-5d3a60fdfed1",
   "metadata": {},
   "outputs": [
    {
     "name": "stderr",
     "output_type": "stream",
     "text": [
      "C:\\Users\\Admin\\AppData\\Local\\Temp\\ipykernel_14896\\1681551156.py:8: FutureWarning: Calling int on a single element Series is deprecated and will raise a TypeError in the future. Use int(ser.iloc[0]) instead\n",
      "  IQR_LL = int(Q1 - 1.5*IQR)\n",
      "C:\\Users\\Admin\\AppData\\Local\\Temp\\ipykernel_14896\\1681551156.py:9: FutureWarning: Calling int on a single element Series is deprecated and will raise a TypeError in the future. Use int(ser.iloc[0]) instead\n",
      "  IQR_UL = int(Q3 + 1.5*IQR)\n",
      "C:\\Users\\Admin\\AppData\\Local\\Temp\\ipykernel_14896\\1681551156.py:11: FutureWarning: Calling int on a single element Series is deprecated and will raise a TypeError in the future. Use int(ser.iloc[0]) instead\n",
      "  MyData.loc[MyData['bmi']>IQR_UL , 'bmi'] = int(Bmi_col_df.quantile(q=0.90))\n",
      "C:\\Users\\Admin\\AppData\\Local\\Temp\\ipykernel_14896\\1681551156.py:12: FutureWarning: Calling int on a single element Series is deprecated and will raise a TypeError in the future. Use int(ser.iloc[0]) instead\n",
      "  MyData.loc[MyData['bmi']<IQR_LL , 'bmi'] = int(Bmi_col_df.quantile(q=0.01))\n"
     ]
    },
    {
     "data": {
      "image/png": "[encoded data removed]",
      "text/plain": [
       "<Figure size 640x480 with 1 Axes>"
      ]
     },
     "metadata": {},
     "output_type": "display_data"
    }
   ],
   "source": [
    "Bmi_col_df = pd.DataFrame(MyData['bmi'])\n",
    "Bmi_median = Bmi_col_df.median()\n",
    "#getting IQR of Age column\n",
    "Q3 = Bmi_col_df.quantile(q=0.75)\n",
    "Q1 = Bmi_col_df.quantile(q=0.25)\n",
    "IQR = Q3-Q1\n",
    "#Deriving boundaries of Outliers\n",
    "IQR_LL = int(Q1 - 1.5*IQR)\n",
    "IQR_UL = int(Q3 + 1.5*IQR)\n",
    "#Finding and treating outliers - both lower and upper end\n",
    "MyData.loc[MyData['bmi']>IQR_UL , 'bmi'] = int(Bmi_col_df.quantile(q=0.90))\n",
    "MyData.loc[MyData['bmi']<IQR_LL , 'bmi'] = int(Bmi_col_df.quantile(q=0.01))\n",
    "\n",
    "#checking boxplot for Bmi column\n",
    "import matplotlib.pyplot as plt\n",
    "%matplotlib inline\n",
    "plt.boxplot(MyData['bmi'])\n",
    "plt.show()"
   ]
  },
  {
   "cell_type": "code",
   "execution_count": 19,
   "id": "375651cb-71bb-490f-8e6e-fb4fc36b9883",
   "metadata": {},
   "outputs": [
    {
     "data": {
      "image/png": "[encoded data removed]",
      "text/plain": [
       "<Figure size 640x480 with 1 Axes>"
      ]
     },
     "metadata": {},
     "output_type": "display_data"
    }
   ],
   "source": [
    "#Check how Expense is varying with Age\n",
    "x = MyData[\"age\"]\n",
    "y=  MyData[\"charges\"]\n",
    "plt.scatter(x, y)\n",
    "plt.title('Age charges chart')\n",
    "plt.xlabel('age')\n",
    "plt.ylabel('charges')\n",
    "plt.show()"
   ]
  },
  {
   "cell_type": "code",
   "execution_count": 20,
   "id": "ef55d043-4a16-4ede-b3da-9b67dec80bf2",
   "metadata": {},
   "outputs": [
    {
     "name": "stderr",
     "output_type": "stream",
     "text": [
      "C:\\Users\\Admin\\AppData\\Local\\Temp\\ipykernel_14896\\3302562412.py:2: UserWarning: \n",
      "\n",
      "`distplot` is a deprecated function and will be removed in seaborn v0.14.0.\n",
      "\n",
      "Please adapt your code to use either `displot` (a figure-level function with\n",
      "similar flexibility) or `histplot` (an axes-level function for histograms).\n",
      "\n",
      "For a guide to updating your code to use the new functions, please see\n",
      "https://gist.github.com/mwaskom/de44147ed2974457ad6372750bbe5751\n",
      "\n",
      "  sns.distplot(MyData['age'])  #to see the distribution\n",
      "C:\\Users\\Admin\\anaconda3\\Lib\\site-packages\\seaborn\\_oldcore.py:1119: FutureWarning: use_inf_as_na option is deprecated and will be removed in a future version. Convert inf values to NaN before operating instead.\n",
      "  with pd.option_context('mode.use_inf_as_na', True):\n"
     ]
    },
    {
     "data": {
      "text/plain": [
       "<Axes: xlabel='age', ylabel='Density'>"
      ]
     },
     "execution_count": 20,
     "metadata": {},
     "output_type": "execute_result"
    },
    {
     "data": {
      "image/png": "[encoded data removed]",
      "text/plain": [
       "<Figure size 640x480 with 1 Axes>"
      ]
     },
     "metadata": {},
     "output_type": "display_data"
    }
   ],
   "source": [
    "import seaborn as sns\n",
    "sns.distplot(MyData['age'])  #to see the distribution"
   ]
  },
  {
   "cell_type": "code",
   "execution_count": 21,
   "id": "e017fc3b-df6c-4b36-856f-238ca88fe646",
   "metadata": {},
   "outputs": [
    {
     "data": {
      "image/png": "[encoded data removed]",
      "text/plain": [
       "<Figure size 800x400 with 2 Axes>"
      ]
     },
     "metadata": {},
     "output_type": "display_data"
    }
   ],
   "source": [
    "correlation_matrix= MyData.corr().round(2)\n",
    "fgr, ax = plt.subplots(figsize =(8, 4))\n",
    "import seaborn as sns\n",
    "c = sns.heatmap(data=correlation_matrix, annot=True)\n",
    "fgr.savefig(\"myimage.png\")"
   ]
  },
  {
   "cell_type": "code",
   "execution_count": 22,
   "id": "74a03bb3-0991-45b5-a94c-b3d55227702c",
   "metadata": {},
   "outputs": [],
   "source": [
    "from sklearn.preprocessing import MinMaxScaler\n",
    "scaler = MinMaxScaler()\n",
    "scaled_data = scaler.fit_transform(MyData)\n",
    "scaled_data\n",
    "#converting data back to pandas dataframe\n",
    "MyData_scaled = pd.DataFrame(scaled_data)\n",
    "MyData_scaled.columns = MyData.columns\n",
    "#Separating features and response\n",
    "features = [\"age\",\"sex\",\"bmi\",\"children\",\"smoker\",\"region\"]\n",
    "response = [\"charges\"]\n",
    "x=MyData_scaled[features]\n",
    "y=MyData_scaled[response]"
   ]
  },
  {
   "cell_type": "code",
   "execution_count": 23,
   "id": "7191b25f-a27e-4236-b4b6-6b0c4c1e9fad",
   "metadata": {},
   "outputs": [
    {
     "name": "stdout",
     "output_type": "stream",
     "text": [
      "81.64475927000137 %\n"
     ]
    }
   ],
   "source": [
    "#Dividing data in test and train\n",
    "#Importing neccesary packages\n",
    "from sklearn.linear_model import LinearRegression\n",
    "from sklearn import metrics\n",
    "from sklearn.model_selection import train_test_split\n",
    "x_train, x_test, y_train, y_test = train_test_split(x, y, test_size=0.1, random_state=0)\n",
    "#Fitting lineaar regression model\n",
    "model = LinearRegression()\n",
    "model.fit(x_train, y_train)\n",
    "#Checking accuracy on test data\n",
    "accuracy = model.score(x_test,y_test)\n",
    "print(accuracy*100,'%')"
   ]
  },
  {
   "cell_type": "code",
   "execution_count": 24,
   "id": "18935609-d87a-468e-ac07-7a3345f43301",
   "metadata": {},
   "outputs": [
    {
     "name": "stdout",
     "output_type": "stream",
     "text": [
      "R2_score :  0.7113940188847531\n",
      "MSE :  0.008469905265576817\n"
     ]
    }
   ],
   "source": [
    "import numpy as np\n",
    "y_pred = model.predict(x_test)\n",
    "print('R2_score : ',metrics.r2_score(y_pred,y_test))\n",
    "print('MSE : ',metrics.mean_squared_error(y_pred,y_test))"
   ]
  },
  {
   "cell_type": "code",
   "execution_count": 25,
   "id": "7c1e39e1-e6a3-4df2-9599-4a4793ff8362",
   "metadata": {},
   "outputs": [
    {
     "data": {
      "text/html": [
       "<div>\n",
       "<style scoped>\n",
       "    .dataframe tbody tr th:only-of-type {\n",
       "        vertical-align: middle;\n",
       "    }\n",
       "\n",
       "    .dataframe tbody tr th {\n",
       "        vertical-align: top;\n",
       "    }\n",
       "\n",
       "    .dataframe thead th {\n",
       "        text-align: right;\n",
       "    }\n",
       "</style>\n",
       "<table border=\"1\" class=\"dataframe\">\n",
       "  <thead>\n",
       "    <tr style=\"text-align: right;\">\n",
       "      <th></th>\n",
       "      <th>charges</th>\n",
       "    </tr>\n",
       "  </thead>\n",
       "  <tbody>\n",
       "    <tr>\n",
       "      <th>578</th>\n",
       "      <td>0.137316</td>\n",
       "    </tr>\n",
       "    <tr>\n",
       "      <th>610</th>\n",
       "      <td>0.086988</td>\n",
       "    </tr>\n",
       "    <tr>\n",
       "      <th>569</th>\n",
       "      <td>0.711591</td>\n",
       "    </tr>\n",
       "    <tr>\n",
       "      <th>1034</th>\n",
       "      <td>0.175145</td>\n",
       "    </tr>\n",
       "    <tr>\n",
       "      <th>198</th>\n",
       "      <td>0.136035</td>\n",
       "    </tr>\n",
       "    <tr>\n",
       "      <th>...</th>\n",
       "      <td>...</td>\n",
       "    </tr>\n",
       "    <tr>\n",
       "      <th>787</th>\n",
       "      <td>0.065248</td>\n",
       "    </tr>\n",
       "    <tr>\n",
       "      <th>823</th>\n",
       "      <td>0.181995</td>\n",
       "    </tr>\n",
       "    <tr>\n",
       "      <th>1</th>\n",
       "      <td>0.009636</td>\n",
       "    </tr>\n",
       "    <tr>\n",
       "      <th>589</th>\n",
       "      <td>0.171122</td>\n",
       "    </tr>\n",
       "    <tr>\n",
       "      <th>512</th>\n",
       "      <td>0.131519</td>\n",
       "    </tr>\n",
       "  </tbody>\n",
       "</table>\n",
       "<p>134 rows × 1 columns</p>\n",
       "</div>"
      ],
      "text/plain": [
       "       charges\n",
       "578   0.137316\n",
       "610   0.086988\n",
       "569   0.711591\n",
       "1034  0.175145\n",
       "198   0.136035\n",
       "...        ...\n",
       "787   0.065248\n",
       "823   0.181995\n",
       "1     0.009636\n",
       "589   0.171122\n",
       "512   0.131519\n",
       "\n",
       "[134 rows x 1 columns]"
      ]
     },
     "execution_count": 25,
     "metadata": {},
     "output_type": "execute_result"
    }
   ],
   "source": [
    "y_test"
   ]
  },
  {
   "cell_type": "code",
   "execution_count": 26,
   "id": "26f512e2-d17f-4cc8-b42a-0acab8c82f65",
   "metadata": {},
   "outputs": [
    {
     "data": {
      "text/plain": [
       "array([[ 1.57199963e-01],\n",
       "       [ 1.31580743e-01],\n",
       "       [ 5.88628230e-01],\n",
       "       [ 1.45116067e-01],\n",
       "       [ 9.38154203e-02],\n",
       "       [ 4.42752195e-01],\n",
       "       [ 8.18700683e-03],\n",
       "       [ 1.63061726e-01],\n",
       "       [ 4.31475705e-02],\n",
       "       [ 5.63636372e-01],\n",
       "       [ 3.84122175e-02],\n",
       "       [ 5.11956334e-02],\n",
       "       [ 1.86133806e-01],\n",
       "       [ 4.69580641e-02],\n",
       "       [ 1.53702144e-01],\n",
       "       [ 5.88642738e-02],\n",
       "       [ 2.39019026e-01],\n",
       "       [ 8.12809002e-02],\n",
       "       [ 9.42470167e-02],\n",
       "       [ 2.84723527e-02],\n",
       "       [ 1.12102205e-01],\n",
       "       [ 2.10972848e-01],\n",
       "       [ 7.22142309e-02],\n",
       "       [ 1.39626318e-01],\n",
       "       [ 1.68547959e-01],\n",
       "       [ 1.30014090e-01],\n",
       "       [ 6.98876556e-02],\n",
       "       [ 1.44988106e-01],\n",
       "       [ 4.61140644e-02],\n",
       "       [ 1.50689949e-01],\n",
       "       [ 1.29020456e-01],\n",
       "       [ 1.13340905e-01],\n",
       "       [ 4.16353241e-02],\n",
       "       [ 1.96619426e-01],\n",
       "       [-1.34556367e-03],\n",
       "       [ 3.60010737e-01],\n",
       "       [ 5.97731143e-01],\n",
       "       [ 4.66534331e-01],\n",
       "       [ 5.90542812e-01],\n",
       "       [ 1.32485270e-01],\n",
       "       [ 1.20281227e-01],\n",
       "       [ 5.01180788e-02],\n",
       "       [ 2.22494806e-01],\n",
       "       [ 6.10752138e-01],\n",
       "       [ 4.24701291e-01],\n",
       "       [ 1.78949405e-01],\n",
       "       [ 1.59222155e-01],\n",
       "       [ 6.48510568e-02],\n",
       "       [ 9.67251629e-02],\n",
       "       [ 9.97516277e-02],\n",
       "       [ 4.42545841e-01],\n",
       "       [ 4.00026670e-01],\n",
       "       [ 5.04814177e-01],\n",
       "       [ 6.79154904e-02],\n",
       "       [ 2.36926476e-01],\n",
       "       [ 9.56478437e-02],\n",
       "       [ 4.11157382e-01],\n",
       "       [ 1.59401262e-01],\n",
       "       [ 8.12822432e-02],\n",
       "       [ 2.05196088e-01],\n",
       "       [ 7.74939346e-03],\n",
       "       [-3.26147039e-04],\n",
       "       [ 2.27261802e-01],\n",
       "       [ 1.99092639e-01],\n",
       "       [ 2.11788740e-01],\n",
       "       [ 1.99243812e-01],\n",
       "       [ 3.96312966e-01],\n",
       "       [ 4.97352459e-01],\n",
       "       [ 3.46857495e-03],\n",
       "       [ 1.49629039e-01],\n",
       "       [ 1.13708753e-01],\n",
       "       [ 6.21521709e-01],\n",
       "       [ 1.29048430e-01],\n",
       "       [ 1.45021546e-01],\n",
       "       [ 1.60428830e-01],\n",
       "       [ 1.84036913e-01],\n",
       "       [ 8.44117372e-02],\n",
       "       [ 1.41807384e-01],\n",
       "       [ 2.20364708e-01],\n",
       "       [ 1.15204455e-01],\n",
       "       [ 1.74130311e-01],\n",
       "       [ 5.72944490e-01],\n",
       "       [ 1.81274580e-01],\n",
       "       [ 1.28932668e-01],\n",
       "       [ 1.85431131e-01],\n",
       "       [ 4.49058739e-01],\n",
       "       [ 9.14558404e-02],\n",
       "       [ 1.66362195e-01],\n",
       "       [ 1.71811733e-01],\n",
       "       [ 4.60443276e-01],\n",
       "       [ 1.45307611e-01],\n",
       "       [ 1.30657859e-01],\n",
       "       [ 1.12368901e-01],\n",
       "       [ 5.96391419e-02],\n",
       "       [ 3.78000993e-01],\n",
       "       [ 3.46275254e-02],\n",
       "       [ 5.55548907e-01],\n",
       "       [ 4.59106309e-01],\n",
       "       [ 8.66066607e-02],\n",
       "       [ 2.15830415e-01],\n",
       "       [ 4.92550884e-02],\n",
       "       [ 1.60435150e-01],\n",
       "       [ 8.79258234e-02],\n",
       "       [ 4.86102885e-01],\n",
       "       [ 2.21220393e-01],\n",
       "       [ 1.59449508e-01],\n",
       "       [ 5.39424299e-01],\n",
       "       [ 8.55002649e-02],\n",
       "       [ 2.13910560e-01],\n",
       "       [ 3.87806207e-02],\n",
       "       [ 1.49039162e-01],\n",
       "       [ 4.79522920e-02],\n",
       "       [ 1.45078754e-01],\n",
       "       [ 1.95656055e-01],\n",
       "       [ 6.18452365e-01],\n",
       "       [ 1.64080135e-01],\n",
       "       [ 8.17972332e-03],\n",
       "       [ 1.22312164e-01],\n",
       "       [ 1.07664110e-01],\n",
       "       [ 1.64902400e-01],\n",
       "       [ 5.47971076e-01],\n",
       "       [ 8.16492042e-02],\n",
       "       [ 6.57342244e-02],\n",
       "       [ 4.32330986e-01],\n",
       "       [ 7.24424565e-02],\n",
       "       [ 3.32343370e-02],\n",
       "       [ 4.84428644e-01],\n",
       "       [ 4.87145855e-01],\n",
       "       [ 6.04853792e-01],\n",
       "       [ 6.01540055e-02],\n",
       "       [ 1.62823908e-01],\n",
       "       [ 4.37879247e-02],\n",
       "       [ 1.65802227e-01],\n",
       "       [ 1.22701413e-01]])"
      ]
     },
     "execution_count": 26,
     "metadata": {},
     "output_type": "execute_result"
    }
   ],
   "source": [
    "y_pred"
   ]
  },
  {
   "cell_type": "code",
   "execution_count": 27,
   "id": "441cb2c2-71b3-4d33-9c8c-af8b4e741367",
   "metadata": {},
   "outputs": [
    {
     "name": "stdout",
     "output_type": "stream",
     "text": [
      "[-0.04418446]\n"
     ]
    }
   ],
   "source": [
    "print(model.intercept_ ) #checking the intercept of model equation"
   ]
  },
  {
   "cell_type": "code",
   "execution_count": 28,
   "id": "96c77e51-3340-406d-a843-3e5de2c26ab5",
   "metadata": {},
   "outputs": [
    {
     "name": "stdout",
     "output_type": "stream",
     "text": [
      "[[ 0.18575651  0.00095366  0.15572355  0.04302032  0.37489368 -0.01749184]]\n"
     ]
    }
   ],
   "source": [
    "print(model.coef_)   #Checking the coefficients of model equation"
   ]
  }
 ],
 "metadata": {
  "kernelspec": {
   "display_name": "Python 3 (ipykernel)",
   "language": "python",
   "name": "python3"
  },
  "language_info": {
   "codemirror_mode": {
    "name": "ipython",
    "version": 3
   },
   "file_extension": ".py",
   "mimetype": "text/x-python",
   "name": "python",
   "nbconvert_exporter": "python",
   "pygments_lexer": "ipython3",
   "version": "3.11.3"
  }
 },
 "nbformat": 4,
 "nbformat_minor": 5
}
